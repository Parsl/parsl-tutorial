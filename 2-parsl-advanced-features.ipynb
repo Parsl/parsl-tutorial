{
 "cells": [
  {
   "cell_type": "markdown",
   "metadata": {},
   "source": [
    "# Parsl: Advanced Features\n",
    "\n",
    "In this tutorial we present advanced features of Parsl including its ability to support multiple sites, elastically scale across sites, and its support for fault tolerance.\n"
   ]
  },
  {
   "cell_type": "markdown",
   "metadata": {},
   "source": [
    "## 1) Multiple Sites\n",
    "\n",
    "In the \"parsl-introduction\" notebook we showed how a configuration file controls the execution provider and model used to execute a Parsl script. While we showed only a single site, Parsl is capable of distributing workload over several sites simultaneously. Below we show an example configuration that combines local thread execution and local pilot job execution. By default, Apps will execute on any configured sites. However, you can also specify a specific site, or sites, on which an App can execute by adding a list of sites to the App decorator. In the following cells, we show a three-stage workflow in which the first app uses local threads, the second uses local pilot jobs, and the third (with no sites specified) will use either threads or pilot jobs."
   ]
  },
  {
   "cell_type": "markdown",
   "metadata": {},
   "source": [
    "First, we define two \"sites\", which in this example are both local.  The first uses threads, and the second uses pilot job execution.  We then instantiate a DataFlowKernel object with these two sites."
   ]
  },
  {
   "cell_type": "code",
   "execution_count": 1,
   "metadata": {},
   "outputs": [],
   "source": [
    "from parsl.config import Config\n",
    "from parsl.executors.threads import ThreadPoolExecutor\n",
    "from parsl.executors import HighThroughputExecutor\n",
    "from parsl.providers import LocalProvider\n",
    "from parsl.channels import LocalChannel\n",
    "\n",
    "# Define a configuration for using local threads and pilot jobs\n",
    "multi_site_config = Config(\n",
    "    executors=[\n",
    "        ThreadPoolExecutor(\n",
    "            max_threads=8, \n",
    "            label='local_threads'\n",
    "        ), \n",
    "        HighThroughputExecutor(\n",
    "            label=\"local_htex\",\n",
    "            worker_debug=True,\n",
    "            cores_per_worker=1,\n",
    "            provider=LocalProvider(\n",
    "                channel=LocalChannel(),\n",
    "            ),\n",
    "        )\n",
    "    ]\n",
    ")\n",
    "\n"
   ]
  },
  {
   "cell_type": "markdown",
   "metadata": {},
   "source": [
    "Next, we define three Apps, which have the same functionality as in the previous tutorial.  However, the first is specified to use the first site only, the second is specific to use the second site only, and the third doesn't have a site specification, so it can run on any available site."
   ]
  },
  {
   "cell_type": "code",
   "execution_count": 2,
   "metadata": {},
   "outputs": [],
   "source": [
    "import parsl\n",
    "from parsl.app.app import python_app, bash_app\n",
    "from parsl.data_provider.files import File\n",
    "\n",
    "parsl.load(multi_site_config)\n",
    "\n",
    "# Generate app runs using the \"local_threads\" executor\n",
    "@bash_app(executors=[\"local_threads\"])\n",
    "def generate(outputs=[]):\n",
    "    return \"echo $(( RANDOM )) &> {}\".format(outputs[0].filepath)\n",
    "\n",
    "# Concat app runs using the \"local_htex\" executor\n",
    "@bash_app(executors=[\"local_htex\"])\n",
    "def concat(inputs=[], outputs=[]):\n",
    "    return \"cat {0} > {1}\".format(\" \".join(i.filepath for i in inputs), outputs[0].filepath)\n",
    "\n",
    "# Total app runs using either executor\n",
    "@python_app\n",
    "def total(inputs=[]):\n",
    "    total = 0\n",
    "    with open(inputs[0], 'r') as f:\n",
    "        for l in f:\n",
    "            total += int(l)\n",
    "    return total"
   ]
  },
  {
   "cell_type": "markdown",
   "metadata": {},
   "source": [
    "Finally, we run the apps, and cleanup."
   ]
  },
  {
   "cell_type": "code",
   "execution_count": 3,
   "metadata": {},
   "outputs": [
    {
     "name": "stdout",
     "output_type": "stream",
     "text": [
      "112353\n"
     ]
    }
   ],
   "source": [
    "# Create 5 files with random numbers\n",
    "output_files = []\n",
    "for i in range (5):\n",
    "     output_files.append(generate(outputs=[File('random-%s.txt' % i)]))\n",
    "\n",
    "# Concatenate the files into a single file\n",
    "cc = concat(inputs=[i.outputs[0] for i in output_files], outputs=[File(\"all.txt\")])\n",
    "\n",
    "# Calculate the sum of the random numbers\n",
    "result = total(inputs=[cc.outputs[0]])\n",
    "\n",
    "print (result.result())\n",
    "\n",
    "parsl.clear()"
   ]
  },
  {
   "cell_type": "markdown",
   "metadata": {},
   "source": [
    "## 2) Elasticity\n",
    "\n",
    "As a Parsl script is evaluated, it creates a collection of tasks for asynchronous execution. In most cases this stream of tasks is variable as different stages of the workflow are evaluated. To address this variability, Parsl is able to monitor the flow of tasks and elastically provision resources, within user specified bounds, in response. \n",
    "\n",
    "In the following example, we declare the range of blocks to be provisioned from 0 to 10 (minBlocks and maxBlocks, respectively). We then set parallelism to 0.1, which means that Parsl will favor reusing resources rather than provisioning new resources. You should see that the app is executed on few process IDs. "
   ]
  },
  {
   "cell_type": "code",
   "execution_count": 4,
   "metadata": {},
   "outputs": [
    {
     "name": "stdout",
     "output_type": "stream",
     "text": [
      "Waiting for results ....\n",
      "(51682) Hello World!\n",
      "(51684) Hello World!\n",
      "(51682) Hello World!\n",
      "(51684) Hello World!\n",
      "(51684) Hello World!\n",
      "(51682) Hello World!\n",
      "(51682) Hello World!\n",
      "(51684) Hello World!\n",
      "(51682) Hello World!\n",
      "(51684) Hello World!\n"
     ]
    }
   ],
   "source": [
    "import parsl\n",
    "from parsl.app.app import python_app, bash_app\n",
    "from parsl.providers import LocalProvider\n",
    "from parsl.channels import LocalChannel\n",
    "from parsl.config import Config\n",
    "from parsl.executors import HighThroughputExecutor\n",
    "\n",
    "local_htex = Config(\n",
    "    executors=[\n",
    "        HighThroughputExecutor(\n",
    "            label=\"local_htex\",\n",
    "            provider=LocalProvider(\n",
    "                channel=LocalChannel(),\n",
    "                init_blocks=1,\n",
    "                max_blocks=10,\n",
    "                parallelism=0.1,\n",
    "            )\n",
    "        )\n",
    "    ]\n",
    ")\n",
    "\n",
    "parsl.load(local_htex)\n",
    "\n",
    "@python_app\n",
    "def py_hello():\n",
    "    import time     \n",
    "    import os\n",
    "    time.sleep(5)\n",
    "    return \"(%s) Hello World!\" %  os.getpid()\n",
    "\n",
    "results = {}\n",
    "for i in range(0, 10):\n",
    "    results[i] = py_hello()\n",
    "\n",
    "print(\"Waiting for results ....\")\n",
    "for i in range(0, 10):\n",
    "    print(results[i].result())\n",
    "\n",
    "parsl.clear()"
   ]
  },
  {
   "cell_type": "markdown",
   "metadata": {},
   "source": [
    "We now modify the parallelism option to 1. This configuration means that Parsl will favor elastic growth to execute as many tasks simultaineously as possible, up to the user defined limit.  You can modify the parallelism between 0 and 1 to experiment with different scaling policies. "
   ]
  },
  {
   "cell_type": "code",
   "execution_count": 5,
   "metadata": {},
   "outputs": [
    {
     "name": "stdout",
     "output_type": "stream",
     "text": [
      "Waiting for results ....\n",
      "(51888) Hello World!\n",
      "(51889) Hello World!\n",
      "(51936) Hello World!\n",
      "(51935) Hello World!\n",
      "(51961) Hello World!\n",
      "(51960) Hello World!\n",
      "(51888) Hello World!\n",
      "(51889) Hello World!\n",
      "(51983) Hello World!\n",
      "(51984) Hello World!\n"
     ]
    }
   ],
   "source": [
    "import parsl\n",
    "from parsl.app.app import python_app, bash_app\n",
    "from parsl.providers import LocalProvider\n",
    "from parsl.channels import LocalChannel\n",
    "from parsl.config import Config\n",
    "from parsl.executors import HighThroughputExecutor\n",
    "\n",
    "local_htex = Config(\n",
    "    executors=[\n",
    "        HighThroughputExecutor(\n",
    "            label=\"local_htex\",\n",
    "            provider=LocalProvider(\n",
    "                channel=LocalChannel(),\n",
    "                init_blocks=1,\n",
    "                max_blocks=10,\n",
    "                parallelism=1,\n",
    "            )\n",
    "        )\n",
    "    ]\n",
    ")\n",
    "\n",
    "parsl.load(local_htex)\n",
    "\n",
    "@python_app\n",
    "def py_hello():\n",
    "    import time     \n",
    "    import os\n",
    "    time.sleep(5)\n",
    "    return \"(%s) Hello World!\" %  os.getpid()\n",
    "\n",
    "results = {}\n",
    "for i in range(0, 10):\n",
    "    results[i] = py_hello()\n",
    "\n",
    "print(\"Waiting for results ....\")\n",
    "for i in range(0, 10):\n",
    "    print(results[i].result())\n",
    "\n",
    "parsl.clear()"
   ]
  },
  {
   "cell_type": "markdown",
   "metadata": {},
   "source": [
    "## 3) Fault tolerance and caching\n",
    "\n",
    "Workflows are often re-executed for various reasons, including workflow or node failure, code errors, or extension of the workflow. It is inefficient to re-execute apps that have succesfully completed. Parsl provides two mechanisms to improve efficacy via app caching and/or workflow-level checkpointing.  \n",
    "\n",
    "### App Caching\n",
    "\n",
    "When developing a workflow, developers often re-execute the same workflow with incremental changes. Often large fragments of the workflow are re-executed even though they have not been modified. This wastes not only time but also computational resources. App Caching solves this problem by caching results from apps that have completed so that they can be re-used.  Caching is enabled by setting the `cache` argument to the App wrapper. Note: the cached result is returned only when the same function, with the same name, input arguments, and function body is called. If any of these are changed, a new result is computed and returned.\n",
    "\n",
    "The following example shows two calls to the `slow_message` app with the same message. You will see that the first call is slow (since the app sleeps for 5 seconds), but the second call returns immedidately (the app is not actually executed this time, so there is no sleep delay). \n",
    "\n",
    "Note: running this example in Jupyter notebooks will cache the results through subsequent executions of the cell. "
   ]
  },
  {
   "cell_type": "code",
   "execution_count": 3,
   "metadata": {},
   "outputs": [
    {
     "name": "stdout",
     "output_type": "stream",
     "text": [
      "First: Hello World\n",
      "Second: Hello World\n",
      "Third: Hello World!\n"
     ]
    }
   ],
   "source": [
    "import parsl\n",
    "from parsl.app.app import python_app, bash_app\n",
    "from parsl.providers import LocalProvider\n",
    "from parsl.channels import LocalChannel\n",
    "from parsl.config import Config\n",
    "from parsl.executors import HighThroughputExecutor\n",
    "\n",
    "local_htex = Config(\n",
    "    executors=[\n",
    "        HighThroughputExecutor(\n",
    "            label=\"htex_Local\",\n",
    "            worker_debug=True,\n",
    "            cores_per_worker=1,\n",
    "            provider=LocalProvider(\n",
    "                channel=LocalChannel(),\n",
    "            )\n",
    "        )\n",
    "    ]\n",
    ")\n",
    "\n",
    "parsl.load(local_htex)\n",
    "\n",
    "@python_app(cache = True)\n",
    "def slow_message(message):\n",
    "    import time     \n",
    "    time.sleep(5)\n",
    "    return message\n",
    "\n",
    "# First call to slow_message will calcuate the value\n",
    "first = slow_message(\"Hello World\")\n",
    "print (\"First: %s\" % first.result())\n",
    "\n",
    "# Second call to slow_message with the same args will\n",
    "# return immediately\n",
    "second = slow_message(\"Hello World\")\n",
    "print (\"Second: %s\" % second.result())\n",
    "\n",
    "# Third call to slow_message with different arguments\n",
    "# will take some time to calculate values\n",
    "third = slow_message(\"Hello World!\")\n",
    "print (\"Third: %s\" % third.result())\n",
    "\n",
    "parsl.clear()"
   ]
  },
  {
   "cell_type": "markdown",
   "metadata": {},
   "source": [
    "### Checkpointing\n",
    "\n",
    "Parsl's checkpointing model enables workflow state to be saved and then used at a later time to resume execution from that point. Checkpointing provides workflow-level fault tolerance, insuring against failure of the Parsl control process. \n",
    "\n",
    "Parsl implements an incremental checkpointing model: each explicit checkpoint will save state changes from the previous checkpoint. Thus, the full history of a workflow may be distributed across multiple checkpoints.\n",
    "\n",
    "Checkpointing uses App caching to store results. Thus, the same caveats apply to non-deterministic functions. That is, the checkpoint saves results for an instance of an App when it has the same name, arguments, and function body. \n",
    "\n",
    "In this example we demonstrate how to automatically checkpoint workflows when tasks succesfully execute. This is enabled in the config by setting `checkpointMode` to `task_exit`.  Other checkpointing models are described in the [checkpointing documentation](https://parsl.readthedocs.io/en/latest/userguide/checkpoints.html).\n"
   ]
  },
  {
   "cell_type": "code",
   "execution_count": 11,
   "metadata": {},
   "outputs": [
    {
     "name": "stdout",
     "output_type": "stream",
     "text": [
      "[0, 2, 4, 6, 8]\n"
     ]
    }
   ],
   "source": [
    "import parsl\n",
    "from parsl.app.app import python_app, bash_app\n",
    "from parsl.providers import LocalProvider\n",
    "from parsl.channels import LocalChannel\n",
    "from parsl.config import Config\n",
    "from parsl.executors import HighThroughputExecutor\n",
    "\n",
    "local_htex = Config(\n",
    "    executors=[\n",
    "        HighThroughputExecutor(\n",
    "            label=\"local_htex\",\n",
    "            provider=LocalProvider(\n",
    "                channel=LocalChannel(),\n",
    "            )\n",
    "        )\n",
    "    ],\n",
    "    checkpoint_mode='task_exit',\n",
    ")\n",
    "\n",
    "dfk = parsl.load(local_htex)\n",
    "\n",
    "@python_app(cache=True)\n",
    "def slow_double(x):\n",
    "    import time\n",
    "    time.sleep(2)\n",
    "    return x * 2\n",
    "\n",
    "d = []\n",
    "for i in range(5):\n",
    "    d.append(slow_double(i))\n",
    "\n",
    "# wait for results\n",
    "print([d[i].result() for i in range(5)])\n",
    "\n",
    "parsl.clear()"
   ]
  },
  {
   "cell_type": "markdown",
   "metadata": {},
   "source": [
    "To restart from a previous checkpoint the DFK must be configured with the appropriate checkpoint file. In most cases this is likley to be the most recent checkpoint file created. The following approach works with any checkpoint file, irrespective of which checkpointing method was used to create it. \n",
    "\n",
    "In this example we reload the most recent checkpoint and attempt to run the same workflow. The results return immediately as there is no need to rexecute each app. "
   ]
  },
  {
   "cell_type": "code",
   "execution_count": 12,
   "metadata": {},
   "outputs": [
    {
     "name": "stdout",
     "output_type": "stream",
     "text": [
      "[0, 2, 4, 6, 8]\n"
     ]
    }
   ],
   "source": [
    "from parsl.utils import get_all_checkpoints\n",
    "from parsl import set_stream_logger, NullHandler\n",
    "\n",
    "local_htex = Config(\n",
    "    executors=[\n",
    "        HighThroughputExecutor(\n",
    "            label=\"local_htex\",\n",
    "            provider=LocalProvider(\n",
    "                channel=LocalChannel(),\n",
    "            )\n",
    "        )\n",
    "    ],\n",
    "    checkpoint_files = get_all_checkpoints(),\n",
    ")\n",
    "\n",
    "parsl.load(local_htex)\n",
    "\n",
    "# Rerun the same workflow\n",
    "d = []\n",
    "for i in range(5):\n",
    "    d.append(slow_double(i))\n",
    "\n",
    "# wait for results\n",
    "print([d[i].result() for i in range(5)])\n",
    "\n",
    "parsl.clear()"
   ]
  },
  {
   "cell_type": "markdown",
   "metadata": {},
   "source": [
    "# 4) Globus data management\n",
    "\n",
    "Parsl uses Glous for wide area data movement. The following example shows how you can sort a publicly acessible Globus file containing random strings. \n",
    "\n",
    "Note: to run this example you will need to run in a location with a Globus endpoint and make that endpoint known to the configuration. E.g., for BlueWaters you will need to include the following configuration: \n",
    "\n",
    "```\n",
    "local_endpoint = 'd59900ef-6d04-11e5-ba46-22000b92c6ec'\n",
    "\n",
    "storage_access=[GlobusScheme(\n",
    "                endpoint_uuid=local_endpoint,\n",
    "                endpoint_path=\"/\",\n",
    "                local_path=\"/\"\n",
    "            )]\n",
    "```\n",
    "\n",
    "\n",
    "Make sure to activate the destination endpoint before running this example. You can activate the endpoint on the Globus website or via the Globus Python SDK. \n",
    "\n",
    "The example is set to upload the sorted file to the Globus tutorial endpoint. You can send it to another location by updating the following code: \n",
    "\n",
    "```\n",
    "dest_endpoint = 'ddb59aef-6d04-11e5-ba46-22000b92c6ec'\n",
    "```\n",
    "\n",
    "You can view the destination endpoint in [Globus](https://app.globus.org/file-manager?origin_id=ddb59aef-6d04-11e5-ba46-22000b92c6ec&origin_path=%2F~%2F)."
   ]
  },
  {
   "cell_type": "code",
   "execution_count": null,
   "metadata": {},
   "outputs": [],
   "source": [
    "import parsl\n",
    "from parsl.app.app import python_app, bash_app\n",
    "from parsl.data_provider.files import File\n",
    "from parsl.config import Config\n",
    "from parsl.data_provider.globus import GlobusStaging\n",
    "from parsl.data_provider.data_manager import default_staging\n",
    "from parsl.executors.threads import ThreadPoolExecutor\n",
    "import os\n",
    "\n",
    "local_endpoint = None # Insert your endpoint ID here\n",
    "dest_endpoint = 'ddb59aef-6d04-11e5-ba46-22000b92c6ec' # Destination for sorted file\n",
    "\n",
    "if not local_endpoint:\n",
    "    print(\"You must specify a local endpoint\")\n",
    "\n",
    "else:\n",
    "    config = Config(\n",
    "        executors=[\n",
    "            ThreadPoolExecutor(\n",
    "                label='local_threads_globus',\n",
    "                working_dir=os.getcwd(), # Update to your working directory\n",
    "                storage_access=default_staging + [GlobusStaging(\n",
    "                    endpoint_uuid=local_endpoint,\n",
    "                    endpoint_path='/',\n",
    "                    local_path='/'\n",
    "                )],\n",
    "            )\n",
    "        ],\n",
    "    )\n",
    "\n",
    "    parsl.load(config)"
   ]
  },
  {
   "cell_type": "code",
   "execution_count": null,
   "metadata": {},
   "outputs": [],
   "source": [
    "@python_app\n",
    "def sort_strings(inputs=[], outputs=[]):\n",
    "    with open(inputs[0], 'r') as u:\n",
    "        strs = u.readlines()\n",
    "        strs.sort()\n",
    "        with open(outputs[0].filepath, 'w') as s:\n",
    "            for e in strs:\n",
    "                s.write(e)\n",
    "\n",
    "unsorted_globus_file = File('globus://03d7d06a-cb6b-11e8-8c6a-0a1d4c5c824a/unsorted.txt')\n",
    "sorted_globus_file = File('globus://%s/~/sorted.txt' % dest_endpoint)\n",
    "\n",
    "f = sort_strings(inputs=[unsorted_globus_file], outputs=[sorted_globus_file])\n",
    "print (f.result())\n"
   ]
  },
  {
   "cell_type": "markdown",
   "metadata": {},
   "source": [
    "# Monitoring\n",
    "\n",
    "Parsl can be configured to capture fine grain monitoring information about workflows and resource usage. To enable monitoring you must add the monitoring hub to the configuration.\n",
    "\n",
    "Note: in this example we set the resource monitoring interval to 3 seconds so that we can capture resource information from short running tasks. In practice you will likely use a longer interval."
   ]
  },
  {
   "cell_type": "code",
   "execution_count": 2,
   "metadata": {
    "scrolled": true
   },
   "outputs": [
    {
     "name": "stdout",
     "output_type": "stream",
     "text": [
      "[0, 2, 4, 6, 8]\n"
     ]
    }
   ],
   "source": [
    "import parsl\n",
    "from parsl import python_app\n",
    "from parsl.monitoring.monitoring import MonitoringHub\n",
    "from parsl.config import Config\n",
    "from parsl.executors import HighThroughputExecutor\n",
    "from parsl.providers import LocalProvider\n",
    "from parsl.addresses import address_by_hostname\n",
    "\n",
    "import logging\n",
    "\n",
    "config = Config(\n",
    "   executors=[\n",
    "       HighThroughputExecutor(\n",
    "           label=\"local_htex\",\n",
    "           address=address_by_hostname(),\n",
    "           provider=LocalProvider()\n",
    "       )\n",
    "   ],\n",
    "   monitoring=MonitoringHub(\n",
    "       hub_address=address_by_hostname(),\n",
    "       hub_port=6553,\n",
    "       resource_monitoring_interval=1,\n",
    "   )\n",
    ")\n",
    "\n",
    "parsl.load(config)\n",
    "\n",
    "# Run a simple workflow\n",
    "@python_app(cache=True)\n",
    "def slow_double(x):\n",
    "    import time\n",
    "    import random\n",
    "    time.sleep(random.randint(1,15))\n",
    "    return x * 2\n",
    "\n",
    "d = []\n",
    "for i in range(5):\n",
    "    d.append(slow_double(i))\n",
    "\n",
    "# wait for results\n",
    "print([d[i].result() for i in range(5)])\n",
    "\n",
    "parsl.clear()"
   ]
  },
  {
   "cell_type": "markdown",
   "metadata": {},
   "source": [
    "## Accessing monitoring data\n",
    "\n",
    "Parsl includes a workflow monitoring system and web-based visualization interface that can be used to monitor workflows during or after execution. The monitoring system stores information in a database and the web interface provides workflow-, task-, and resource-level views. To view the web interface run the parsl-visualize command. \n",
    "\n",
    "As all monitoring information is stored in a local SQLite database, you can connect to this database directly from your notebook to view and visualize workflow status. In the example below we show how to load the information into a Pandas dataframe.\n",
    "\n",
    "First connect to the database. By default the database is named 'monitoring.db'; however, that may be changed in the monitoring configuration. "
   ]
  },
  {
   "cell_type": "code",
   "execution_count": 3,
   "metadata": {},
   "outputs": [],
   "source": [
    "import sqlite3\n",
    "import pandas as pd\n",
    "\n",
    "conn = sqlite3.connect('monitoring.db')"
   ]
  },
  {
   "cell_type": "markdown",
   "metadata": {},
   "source": [
    "The workflow table contains high level workflow information such as the name of the workflow, when it was run, by whom, as well as statistics about the state of tasks (e.g., completed or failed)."
   ]
  },
  {
   "cell_type": "code",
   "execution_count": 4,
   "metadata": {},
   "outputs": [
    {
     "data": {
      "text/html": [
       "<div>\n",
       "<style scoped>\n",
       "    .dataframe tbody tr th:only-of-type {\n",
       "        vertical-align: middle;\n",
       "    }\n",
       "\n",
       "    .dataframe tbody tr th {\n",
       "        vertical-align: top;\n",
       "    }\n",
       "\n",
       "    .dataframe thead th {\n",
       "        text-align: right;\n",
       "    }\n",
       "</style>\n",
       "<table border=\"1\" class=\"dataframe\">\n",
       "  <thead>\n",
       "    <tr style=\"text-align: right;\">\n",
       "      <th></th>\n",
       "      <th>run_id</th>\n",
       "      <th>workflow_name</th>\n",
       "      <th>workflow_version</th>\n",
       "      <th>time_began</th>\n",
       "      <th>time_completed</th>\n",
       "      <th>workflow_duration</th>\n",
       "      <th>host</th>\n",
       "      <th>user</th>\n",
       "      <th>rundir</th>\n",
       "      <th>tasks_failed_count</th>\n",
       "      <th>tasks_completed_count</th>\n",
       "    </tr>\n",
       "  </thead>\n",
       "  <tbody>\n",
       "    <tr>\n",
       "      <th>0</th>\n",
       "      <td>e31f0f87-063b-4a6a-b34a-015a965609cd</td>\n",
       "      <td>&lt;ipython-input-1-390d96b43aa1&gt;</td>\n",
       "      <td>2020-06-10 19:59:07</td>\n",
       "      <td>2020-06-10 19:59:07.380733</td>\n",
       "      <td>None</td>\n",
       "      <td>None</td>\n",
       "      <td>6ce747d86639</td>\n",
       "      <td>root</td>\n",
       "      <td>/parsl-tutorial/runinfo/045</td>\n",
       "      <td>0</td>\n",
       "      <td>5</td>\n",
       "    </tr>\n",
       "  </tbody>\n",
       "</table>\n",
       "</div>"
      ],
      "text/plain": [
       "                                 run_id                   workflow_name  \\\n",
       "0  e31f0f87-063b-4a6a-b34a-015a965609cd  <ipython-input-1-390d96b43aa1>   \n",
       "\n",
       "      workflow_version                  time_began time_completed  \\\n",
       "0  2020-06-10 19:59:07  2020-06-10 19:59:07.380733           None   \n",
       "\n",
       "  workflow_duration          host  user                       rundir  \\\n",
       "0              None  6ce747d86639  root  /parsl-tutorial/runinfo/045   \n",
       "\n",
       "   tasks_failed_count  tasks_completed_count  \n",
       "0                   0                      5  "
      ]
     },
     "execution_count": 4,
     "metadata": {},
     "output_type": "execute_result"
    }
   ],
   "source": [
    "df_workflow = pd.read_sql_query('SELECT * from workflow', conn)\n",
    "df_workflow"
   ]
  },
  {
   "cell_type": "markdown",
   "metadata": {},
   "source": [
    "The tasl table contains information about the invidual tasks in a worklow such as the input and output files, start and completion time, and where that task was executed."
   ]
  },
  {
   "cell_type": "code",
   "execution_count": 5,
   "metadata": {},
   "outputs": [
    {
     "data": {
      "text/html": [
       "<div>\n",
       "<style scoped>\n",
       "    .dataframe tbody tr th:only-of-type {\n",
       "        vertical-align: middle;\n",
       "    }\n",
       "\n",
       "    .dataframe tbody tr th {\n",
       "        vertical-align: top;\n",
       "    }\n",
       "\n",
       "    .dataframe thead th {\n",
       "        text-align: right;\n",
       "    }\n",
       "</style>\n",
       "<table border=\"1\" class=\"dataframe\">\n",
       "  <thead>\n",
       "    <tr style=\"text-align: right;\">\n",
       "      <th></th>\n",
       "      <th>task_id</th>\n",
       "      <th>run_id</th>\n",
       "      <th>hostname</th>\n",
       "      <th>task_depends</th>\n",
       "      <th>task_executor</th>\n",
       "      <th>task_func_name</th>\n",
       "      <th>task_time_submitted</th>\n",
       "      <th>task_time_running</th>\n",
       "      <th>task_time_returned</th>\n",
       "      <th>task_memoize</th>\n",
       "      <th>task_hashsum</th>\n",
       "      <th>task_inputs</th>\n",
       "      <th>task_outputs</th>\n",
       "      <th>task_stdin</th>\n",
       "      <th>task_stdout</th>\n",
       "      <th>task_stderr</th>\n",
       "      <th>task_fail_count</th>\n",
       "      <th>task_fail_history</th>\n",
       "    </tr>\n",
       "  </thead>\n",
       "  <tbody>\n",
       "    <tr>\n",
       "      <th>0</th>\n",
       "      <td>0</td>\n",
       "      <td>e31f0f87-063b-4a6a-b34a-015a965609cd</td>\n",
       "      <td>6ce747d86639</td>\n",
       "      <td></td>\n",
       "      <td>local_htex</td>\n",
       "      <td>slow_double</td>\n",
       "      <td>2020-06-10 19:59:07.541152</td>\n",
       "      <td>2020-06-10 19:59:08.299433</td>\n",
       "      <td>2020-06-10 19:59:09.431409</td>\n",
       "      <td>1</td>\n",
       "      <td>30e71c02d111c0b6e6e6afd86b17cbc4</td>\n",
       "      <td>None</td>\n",
       "      <td>None</td>\n",
       "      <td>None</td>\n",
       "      <td>None</td>\n",
       "      <td>None</td>\n",
       "      <td>0</td>\n",
       "      <td></td>\n",
       "    </tr>\n",
       "    <tr>\n",
       "      <th>1</th>\n",
       "      <td>1</td>\n",
       "      <td>e31f0f87-063b-4a6a-b34a-015a965609cd</td>\n",
       "      <td>6ce747d86639</td>\n",
       "      <td></td>\n",
       "      <td>local_htex</td>\n",
       "      <td>slow_double</td>\n",
       "      <td>2020-06-10 19:59:07.692679</td>\n",
       "      <td>2020-06-10 19:59:08.300886</td>\n",
       "      <td>2020-06-10 19:59:16.631662</td>\n",
       "      <td>1</td>\n",
       "      <td>35634f55d3b0c352eb9af0027dc5dbba</td>\n",
       "      <td>None</td>\n",
       "      <td>None</td>\n",
       "      <td>None</td>\n",
       "      <td>None</td>\n",
       "      <td>None</td>\n",
       "      <td>0</td>\n",
       "      <td></td>\n",
       "    </tr>\n",
       "    <tr>\n",
       "      <th>2</th>\n",
       "      <td>2</td>\n",
       "      <td>e31f0f87-063b-4a6a-b34a-015a965609cd</td>\n",
       "      <td>6ce747d86639</td>\n",
       "      <td></td>\n",
       "      <td>local_htex</td>\n",
       "      <td>slow_double</td>\n",
       "      <td>2020-06-10 19:59:07.697526</td>\n",
       "      <td>2020-06-10 19:59:09.567300</td>\n",
       "      <td>2020-06-10 19:59:22.940389</td>\n",
       "      <td>1</td>\n",
       "      <td>edc8ca35ad094d6c21d8381aad01cf42</td>\n",
       "      <td>None</td>\n",
       "      <td>None</td>\n",
       "      <td>None</td>\n",
       "      <td>None</td>\n",
       "      <td>None</td>\n",
       "      <td>0</td>\n",
       "      <td></td>\n",
       "    </tr>\n",
       "    <tr>\n",
       "      <th>3</th>\n",
       "      <td>3</td>\n",
       "      <td>e31f0f87-063b-4a6a-b34a-015a965609cd</td>\n",
       "      <td>6ce747d86639</td>\n",
       "      <td></td>\n",
       "      <td>local_htex</td>\n",
       "      <td>slow_double</td>\n",
       "      <td>2020-06-10 19:59:07.701133</td>\n",
       "      <td>2020-06-10 19:59:19.795906</td>\n",
       "      <td>2020-06-10 19:59:33.318549</td>\n",
       "      <td>1</td>\n",
       "      <td>6e0b8f4d9b7f21a51d9d18a58b8d828e</td>\n",
       "      <td>None</td>\n",
       "      <td>None</td>\n",
       "      <td>None</td>\n",
       "      <td>None</td>\n",
       "      <td>None</td>\n",
       "      <td>0</td>\n",
       "      <td></td>\n",
       "    </tr>\n",
       "    <tr>\n",
       "      <th>4</th>\n",
       "      <td>4</td>\n",
       "      <td>e31f0f87-063b-4a6a-b34a-015a965609cd</td>\n",
       "      <td>6ce747d86639</td>\n",
       "      <td></td>\n",
       "      <td>local_htex</td>\n",
       "      <td>slow_double</td>\n",
       "      <td>2020-06-10 19:59:07.704660</td>\n",
       "      <td>2020-06-10 19:59:24.916085</td>\n",
       "      <td>2020-06-10 19:59:35.394998</td>\n",
       "      <td>1</td>\n",
       "      <td>4d11465354cc05b52dd4ec033853c27b</td>\n",
       "      <td>None</td>\n",
       "      <td>None</td>\n",
       "      <td>None</td>\n",
       "      <td>None</td>\n",
       "      <td>None</td>\n",
       "      <td>0</td>\n",
       "      <td></td>\n",
       "    </tr>\n",
       "  </tbody>\n",
       "</table>\n",
       "</div>"
      ],
      "text/plain": [
       "   task_id                                run_id      hostname task_depends  \\\n",
       "0        0  e31f0f87-063b-4a6a-b34a-015a965609cd  6ce747d86639                \n",
       "1        1  e31f0f87-063b-4a6a-b34a-015a965609cd  6ce747d86639                \n",
       "2        2  e31f0f87-063b-4a6a-b34a-015a965609cd  6ce747d86639                \n",
       "3        3  e31f0f87-063b-4a6a-b34a-015a965609cd  6ce747d86639                \n",
       "4        4  e31f0f87-063b-4a6a-b34a-015a965609cd  6ce747d86639                \n",
       "\n",
       "  task_executor task_func_name         task_time_submitted  \\\n",
       "0    local_htex    slow_double  2020-06-10 19:59:07.541152   \n",
       "1    local_htex    slow_double  2020-06-10 19:59:07.692679   \n",
       "2    local_htex    slow_double  2020-06-10 19:59:07.697526   \n",
       "3    local_htex    slow_double  2020-06-10 19:59:07.701133   \n",
       "4    local_htex    slow_double  2020-06-10 19:59:07.704660   \n",
       "\n",
       "            task_time_running          task_time_returned task_memoize  \\\n",
       "0  2020-06-10 19:59:08.299433  2020-06-10 19:59:09.431409            1   \n",
       "1  2020-06-10 19:59:08.300886  2020-06-10 19:59:16.631662            1   \n",
       "2  2020-06-10 19:59:09.567300  2020-06-10 19:59:22.940389            1   \n",
       "3  2020-06-10 19:59:19.795906  2020-06-10 19:59:33.318549            1   \n",
       "4  2020-06-10 19:59:24.916085  2020-06-10 19:59:35.394998            1   \n",
       "\n",
       "                       task_hashsum task_inputs task_outputs task_stdin  \\\n",
       "0  30e71c02d111c0b6e6e6afd86b17cbc4        None         None       None   \n",
       "1  35634f55d3b0c352eb9af0027dc5dbba        None         None       None   \n",
       "2  edc8ca35ad094d6c21d8381aad01cf42        None         None       None   \n",
       "3  6e0b8f4d9b7f21a51d9d18a58b8d828e        None         None       None   \n",
       "4  4d11465354cc05b52dd4ec033853c27b        None         None       None   \n",
       "\n",
       "  task_stdout task_stderr  task_fail_count task_fail_history  \n",
       "0        None        None                0                    \n",
       "1        None        None                0                    \n",
       "2        None        None                0                    \n",
       "3        None        None                0                    \n",
       "4        None        None                0                    "
      ]
     },
     "execution_count": 5,
     "metadata": {},
     "output_type": "execute_result"
    }
   ],
   "source": [
    "run_id = df_workflow['run_id'].iloc[-1]\n",
    "df_task = pd.read_sql_query('SELECT * from task where run_id=\"%s\"' % run_id, conn)\n",
    "df_task"
   ]
  },
  {
   "cell_type": "markdown",
   "metadata": {},
   "source": [
    "The resource table contains information about resources used on the node. Resource information is sampled as defined by the `resource_monitoring_interval` in the configuration. All resource information is captured using [psutil](https://psutil.readthedocs.io/en/latest/)."
   ]
  },
  {
   "cell_type": "code",
   "execution_count": 6,
   "metadata": {},
   "outputs": [
    {
     "data": {
      "text/html": [
       "<div>\n",
       "<style scoped>\n",
       "    .dataframe tbody tr th:only-of-type {\n",
       "        vertical-align: middle;\n",
       "    }\n",
       "\n",
       "    .dataframe tbody tr th {\n",
       "        vertical-align: top;\n",
       "    }\n",
       "\n",
       "    .dataframe thead th {\n",
       "        text-align: right;\n",
       "    }\n",
       "</style>\n",
       "<table border=\"1\" class=\"dataframe\">\n",
       "  <thead>\n",
       "    <tr style=\"text-align: right;\">\n",
       "      <th></th>\n",
       "      <th>task_id</th>\n",
       "      <th>timestamp</th>\n",
       "      <th>run_id</th>\n",
       "      <th>resource_monitoring_interval</th>\n",
       "      <th>psutil_process_pid</th>\n",
       "      <th>psutil_process_cpu_percent</th>\n",
       "      <th>psutil_process_memory_percent</th>\n",
       "      <th>psutil_process_children_count</th>\n",
       "      <th>psutil_process_time_user</th>\n",
       "      <th>psutil_process_time_system</th>\n",
       "      <th>psutil_process_memory_virtual</th>\n",
       "      <th>psutil_process_memory_resident</th>\n",
       "      <th>psutil_process_disk_read</th>\n",
       "      <th>psutil_process_disk_write</th>\n",
       "      <th>psutil_process_status</th>\n",
       "    </tr>\n",
       "  </thead>\n",
       "  <tbody>\n",
       "    <tr>\n",
       "      <th>0</th>\n",
       "      <td>0</td>\n",
       "      <td>2020-06-10 19:59:08.299433</td>\n",
       "      <td>e31f0f87-063b-4a6a-b34a-015a965609cd</td>\n",
       "      <td>1.0</td>\n",
       "      <td>79</td>\n",
       "      <td>0.0</td>\n",
       "      <td>6.833329</td>\n",
       "      <td>1.0</td>\n",
       "      <td>0.01</td>\n",
       "      <td>0.00</td>\n",
       "      <td>580947968.0</td>\n",
       "      <td>142536704.0</td>\n",
       "      <td>0.0</td>\n",
       "      <td>0.0</td>\n",
       "      <td>sleeping</td>\n",
       "    </tr>\n",
       "    <tr>\n",
       "      <th>1</th>\n",
       "      <td>1</td>\n",
       "      <td>2020-06-10 19:59:08.300886</td>\n",
       "      <td>e31f0f87-063b-4a6a-b34a-015a965609cd</td>\n",
       "      <td>1.0</td>\n",
       "      <td>80</td>\n",
       "      <td>0.0</td>\n",
       "      <td>6.832740</td>\n",
       "      <td>1.0</td>\n",
       "      <td>0.01</td>\n",
       "      <td>0.00</td>\n",
       "      <td>580947968.0</td>\n",
       "      <td>142524416.0</td>\n",
       "      <td>0.0</td>\n",
       "      <td>0.0</td>\n",
       "      <td>sleeping</td>\n",
       "    </tr>\n",
       "    <tr>\n",
       "      <th>2</th>\n",
       "      <td>0</td>\n",
       "      <td>2020-06-10 19:59:09.329773</td>\n",
       "      <td>e31f0f87-063b-4a6a-b34a-015a965609cd</td>\n",
       "      <td>1.0</td>\n",
       "      <td>79</td>\n",
       "      <td>0.0</td>\n",
       "      <td>6.840791</td>\n",
       "      <td>1.0</td>\n",
       "      <td>0.03</td>\n",
       "      <td>0.01</td>\n",
       "      <td>580947968.0</td>\n",
       "      <td>142692352.0</td>\n",
       "      <td>0.0</td>\n",
       "      <td>0.0</td>\n",
       "      <td>sleeping</td>\n",
       "    </tr>\n",
       "    <tr>\n",
       "      <th>3</th>\n",
       "      <td>1</td>\n",
       "      <td>2020-06-10 19:59:09.331568</td>\n",
       "      <td>e31f0f87-063b-4a6a-b34a-015a965609cd</td>\n",
       "      <td>1.0</td>\n",
       "      <td>80</td>\n",
       "      <td>0.0</td>\n",
       "      <td>6.839220</td>\n",
       "      <td>1.0</td>\n",
       "      <td>0.03</td>\n",
       "      <td>0.01</td>\n",
       "      <td>580947968.0</td>\n",
       "      <td>142659584.0</td>\n",
       "      <td>0.0</td>\n",
       "      <td>0.0</td>\n",
       "      <td>sleeping</td>\n",
       "    </tr>\n",
       "    <tr>\n",
       "      <th>4</th>\n",
       "      <td>2</td>\n",
       "      <td>2020-06-10 19:59:09.567300</td>\n",
       "      <td>e31f0f87-063b-4a6a-b34a-015a965609cd</td>\n",
       "      <td>1.0</td>\n",
       "      <td>79</td>\n",
       "      <td>0.0</td>\n",
       "      <td>7.775688</td>\n",
       "      <td>1.0</td>\n",
       "      <td>0.10</td>\n",
       "      <td>0.12</td>\n",
       "      <td>816070656.0</td>\n",
       "      <td>162193408.0</td>\n",
       "      <td>0.0</td>\n",
       "      <td>4096.0</td>\n",
       "      <td>sleeping</td>\n",
       "    </tr>\n",
       "    <tr>\n",
       "      <th>5</th>\n",
       "      <td>1</td>\n",
       "      <td>2020-06-10 19:59:10.358324</td>\n",
       "      <td>e31f0f87-063b-4a6a-b34a-015a965609cd</td>\n",
       "      <td>1.0</td>\n",
       "      <td>80</td>\n",
       "      <td>0.0</td>\n",
       "      <td>6.839220</td>\n",
       "      <td>1.0</td>\n",
       "      <td>0.05</td>\n",
       "      <td>0.01</td>\n",
       "      <td>580947968.0</td>\n",
       "      <td>142659584.0</td>\n",
       "      <td>0.0</td>\n",
       "      <td>0.0</td>\n",
       "      <td>sleeping</td>\n",
       "    </tr>\n",
       "    <tr>\n",
       "      <th>6</th>\n",
       "      <td>2</td>\n",
       "      <td>2020-06-10 19:59:10.594959</td>\n",
       "      <td>e31f0f87-063b-4a6a-b34a-015a965609cd</td>\n",
       "      <td>1.0</td>\n",
       "      <td>79</td>\n",
       "      <td>0.0</td>\n",
       "      <td>7.799055</td>\n",
       "      <td>1.0</td>\n",
       "      <td>0.12</td>\n",
       "      <td>0.13</td>\n",
       "      <td>816332800.0</td>\n",
       "      <td>162680832.0</td>\n",
       "      <td>0.0</td>\n",
       "      <td>4096.0</td>\n",
       "      <td>sleeping</td>\n",
       "    </tr>\n",
       "    <tr>\n",
       "      <th>7</th>\n",
       "      <td>1</td>\n",
       "      <td>2020-06-10 19:59:11.380334</td>\n",
       "      <td>e31f0f87-063b-4a6a-b34a-015a965609cd</td>\n",
       "      <td>1.0</td>\n",
       "      <td>80</td>\n",
       "      <td>0.0</td>\n",
       "      <td>6.839220</td>\n",
       "      <td>1.0</td>\n",
       "      <td>0.06</td>\n",
       "      <td>0.01</td>\n",
       "      <td>580947968.0</td>\n",
       "      <td>142659584.0</td>\n",
       "      <td>0.0</td>\n",
       "      <td>0.0</td>\n",
       "      <td>sleeping</td>\n",
       "    </tr>\n",
       "    <tr>\n",
       "      <th>8</th>\n",
       "      <td>2</td>\n",
       "      <td>2020-06-10 19:59:11.636826</td>\n",
       "      <td>e31f0f87-063b-4a6a-b34a-015a965609cd</td>\n",
       "      <td>1.0</td>\n",
       "      <td>79</td>\n",
       "      <td>0.0</td>\n",
       "      <td>7.811622</td>\n",
       "      <td>1.0</td>\n",
       "      <td>0.13</td>\n",
       "      <td>0.13</td>\n",
       "      <td>816594944.0</td>\n",
       "      <td>162942976.0</td>\n",
       "      <td>0.0</td>\n",
       "      <td>4096.0</td>\n",
       "      <td>sleeping</td>\n",
       "    </tr>\n",
       "    <tr>\n",
       "      <th>9</th>\n",
       "      <td>1</td>\n",
       "      <td>2020-06-10 19:59:12.416775</td>\n",
       "      <td>e31f0f87-063b-4a6a-b34a-015a965609cd</td>\n",
       "      <td>1.0</td>\n",
       "      <td>80</td>\n",
       "      <td>0.0</td>\n",
       "      <td>6.839220</td>\n",
       "      <td>1.0</td>\n",
       "      <td>0.08</td>\n",
       "      <td>0.02</td>\n",
       "      <td>580947968.0</td>\n",
       "      <td>142659584.0</td>\n",
       "      <td>0.0</td>\n",
       "      <td>0.0</td>\n",
       "      <td>sleeping</td>\n",
       "    </tr>\n",
       "    <tr>\n",
       "      <th>10</th>\n",
       "      <td>2</td>\n",
       "      <td>2020-06-10 19:59:12.659252</td>\n",
       "      <td>e31f0f87-063b-4a6a-b34a-015a965609cd</td>\n",
       "      <td>1.0</td>\n",
       "      <td>79</td>\n",
       "      <td>0.0</td>\n",
       "      <td>7.811622</td>\n",
       "      <td>1.0</td>\n",
       "      <td>0.15</td>\n",
       "      <td>0.14</td>\n",
       "      <td>816857088.0</td>\n",
       "      <td>162942976.0</td>\n",
       "      <td>0.0</td>\n",
       "      <td>4096.0</td>\n",
       "      <td>sleeping</td>\n",
       "    </tr>\n",
       "    <tr>\n",
       "      <th>11</th>\n",
       "      <td>1</td>\n",
       "      <td>2020-06-10 19:59:13.466099</td>\n",
       "      <td>e31f0f87-063b-4a6a-b34a-015a965609cd</td>\n",
       "      <td>1.0</td>\n",
       "      <td>80</td>\n",
       "      <td>0.0</td>\n",
       "      <td>6.839220</td>\n",
       "      <td>1.0</td>\n",
       "      <td>0.11</td>\n",
       "      <td>0.03</td>\n",
       "      <td>580947968.0</td>\n",
       "      <td>142659584.0</td>\n",
       "      <td>0.0</td>\n",
       "      <td>0.0</td>\n",
       "      <td>sleeping</td>\n",
       "    </tr>\n",
       "    <tr>\n",
       "      <th>12</th>\n",
       "      <td>2</td>\n",
       "      <td>2020-06-10 19:59:13.682142</td>\n",
       "      <td>e31f0f87-063b-4a6a-b34a-015a965609cd</td>\n",
       "      <td>1.0</td>\n",
       "      <td>79</td>\n",
       "      <td>0.0</td>\n",
       "      <td>7.811622</td>\n",
       "      <td>1.0</td>\n",
       "      <td>0.16</td>\n",
       "      <td>0.14</td>\n",
       "      <td>816857088.0</td>\n",
       "      <td>162942976.0</td>\n",
       "      <td>0.0</td>\n",
       "      <td>4096.0</td>\n",
       "      <td>sleeping</td>\n",
       "    </tr>\n",
       "    <tr>\n",
       "      <th>13</th>\n",
       "      <td>1</td>\n",
       "      <td>2020-06-10 19:59:14.509228</td>\n",
       "      <td>e31f0f87-063b-4a6a-b34a-015a965609cd</td>\n",
       "      <td>1.0</td>\n",
       "      <td>80</td>\n",
       "      <td>0.0</td>\n",
       "      <td>6.839220</td>\n",
       "      <td>1.0</td>\n",
       "      <td>0.14</td>\n",
       "      <td>0.03</td>\n",
       "      <td>580947968.0</td>\n",
       "      <td>142659584.0</td>\n",
       "      <td>0.0</td>\n",
       "      <td>0.0</td>\n",
       "      <td>sleeping</td>\n",
       "    </tr>\n",
       "    <tr>\n",
       "      <th>14</th>\n",
       "      <td>2</td>\n",
       "      <td>2020-06-10 19:59:14.705150</td>\n",
       "      <td>e31f0f87-063b-4a6a-b34a-015a965609cd</td>\n",
       "      <td>1.0</td>\n",
       "      <td>79</td>\n",
       "      <td>0.0</td>\n",
       "      <td>7.824190</td>\n",
       "      <td>1.0</td>\n",
       "      <td>0.18</td>\n",
       "      <td>0.14</td>\n",
       "      <td>816857088.0</td>\n",
       "      <td>163205120.0</td>\n",
       "      <td>0.0</td>\n",
       "      <td>4096.0</td>\n",
       "      <td>sleeping</td>\n",
       "    </tr>\n",
       "    <tr>\n",
       "      <th>15</th>\n",
       "      <td>1</td>\n",
       "      <td>2020-06-10 19:59:15.529186</td>\n",
       "      <td>e31f0f87-063b-4a6a-b34a-015a965609cd</td>\n",
       "      <td>1.0</td>\n",
       "      <td>80</td>\n",
       "      <td>0.0</td>\n",
       "      <td>6.839220</td>\n",
       "      <td>1.0</td>\n",
       "      <td>0.15</td>\n",
       "      <td>0.04</td>\n",
       "      <td>580947968.0</td>\n",
       "      <td>142659584.0</td>\n",
       "      <td>0.0</td>\n",
       "      <td>0.0</td>\n",
       "      <td>sleeping</td>\n",
       "    </tr>\n",
       "    <tr>\n",
       "      <th>16</th>\n",
       "      <td>2</td>\n",
       "      <td>2020-06-10 19:59:15.728653</td>\n",
       "      <td>e31f0f87-063b-4a6a-b34a-015a965609cd</td>\n",
       "      <td>1.0</td>\n",
       "      <td>79</td>\n",
       "      <td>0.0</td>\n",
       "      <td>7.824190</td>\n",
       "      <td>1.0</td>\n",
       "      <td>0.19</td>\n",
       "      <td>0.15</td>\n",
       "      <td>816857088.0</td>\n",
       "      <td>163205120.0</td>\n",
       "      <td>0.0</td>\n",
       "      <td>4096.0</td>\n",
       "      <td>sleeping</td>\n",
       "    </tr>\n",
       "    <tr>\n",
       "      <th>17</th>\n",
       "      <td>1</td>\n",
       "      <td>2020-06-10 19:59:16.554108</td>\n",
       "      <td>e31f0f87-063b-4a6a-b34a-015a965609cd</td>\n",
       "      <td>1.0</td>\n",
       "      <td>80</td>\n",
       "      <td>0.0</td>\n",
       "      <td>6.840202</td>\n",
       "      <td>1.0</td>\n",
       "      <td>0.17</td>\n",
       "      <td>0.04</td>\n",
       "      <td>580947968.0</td>\n",
       "      <td>142680064.0</td>\n",
       "      <td>0.0</td>\n",
       "      <td>0.0</td>\n",
       "      <td>sleeping</td>\n",
       "    </tr>\n",
       "    <tr>\n",
       "      <th>18</th>\n",
       "      <td>2</td>\n",
       "      <td>2020-06-10 19:59:16.752914</td>\n",
       "      <td>e31f0f87-063b-4a6a-b34a-015a965609cd</td>\n",
       "      <td>1.0</td>\n",
       "      <td>79</td>\n",
       "      <td>0.0</td>\n",
       "      <td>7.824190</td>\n",
       "      <td>1.0</td>\n",
       "      <td>0.20</td>\n",
       "      <td>0.15</td>\n",
       "      <td>816857088.0</td>\n",
       "      <td>163205120.0</td>\n",
       "      <td>0.0</td>\n",
       "      <td>4096.0</td>\n",
       "      <td>sleeping</td>\n",
       "    </tr>\n",
       "    <tr>\n",
       "      <th>19</th>\n",
       "      <td>2</td>\n",
       "      <td>2020-06-10 19:59:17.777485</td>\n",
       "      <td>e31f0f87-063b-4a6a-b34a-015a965609cd</td>\n",
       "      <td>1.0</td>\n",
       "      <td>79</td>\n",
       "      <td>0.0</td>\n",
       "      <td>7.824190</td>\n",
       "      <td>1.0</td>\n",
       "      <td>0.22</td>\n",
       "      <td>0.16</td>\n",
       "      <td>816857088.0</td>\n",
       "      <td>163205120.0</td>\n",
       "      <td>0.0</td>\n",
       "      <td>4096.0</td>\n",
       "      <td>sleeping</td>\n",
       "    </tr>\n",
       "    <tr>\n",
       "      <th>20</th>\n",
       "      <td>2</td>\n",
       "      <td>2020-06-10 19:59:18.829037</td>\n",
       "      <td>e31f0f87-063b-4a6a-b34a-015a965609cd</td>\n",
       "      <td>1.0</td>\n",
       "      <td>79</td>\n",
       "      <td>0.0</td>\n",
       "      <td>7.824190</td>\n",
       "      <td>1.0</td>\n",
       "      <td>0.24</td>\n",
       "      <td>0.17</td>\n",
       "      <td>816857088.0</td>\n",
       "      <td>163205120.0</td>\n",
       "      <td>0.0</td>\n",
       "      <td>4096.0</td>\n",
       "      <td>sleeping</td>\n",
       "    </tr>\n",
       "    <tr>\n",
       "      <th>21</th>\n",
       "      <td>3</td>\n",
       "      <td>2020-06-10 19:59:19.795906</td>\n",
       "      <td>e31f0f87-063b-4a6a-b34a-015a965609cd</td>\n",
       "      <td>1.0</td>\n",
       "      <td>80</td>\n",
       "      <td>0.0</td>\n",
       "      <td>7.776080</td>\n",
       "      <td>1.0</td>\n",
       "      <td>0.07</td>\n",
       "      <td>0.12</td>\n",
       "      <td>816078848.0</td>\n",
       "      <td>162201600.0</td>\n",
       "      <td>0.0</td>\n",
       "      <td>4096.0</td>\n",
       "      <td>sleeping</td>\n",
       "    </tr>\n",
       "    <tr>\n",
       "      <th>22</th>\n",
       "      <td>2</td>\n",
       "      <td>2020-06-10 19:59:19.852083</td>\n",
       "      <td>e31f0f87-063b-4a6a-b34a-015a965609cd</td>\n",
       "      <td>1.0</td>\n",
       "      <td>79</td>\n",
       "      <td>0.0</td>\n",
       "      <td>7.824190</td>\n",
       "      <td>1.0</td>\n",
       "      <td>0.26</td>\n",
       "      <td>0.18</td>\n",
       "      <td>816857088.0</td>\n",
       "      <td>163205120.0</td>\n",
       "      <td>0.0</td>\n",
       "      <td>4096.0</td>\n",
       "      <td>sleeping</td>\n",
       "    </tr>\n",
       "    <tr>\n",
       "      <th>23</th>\n",
       "      <td>3</td>\n",
       "      <td>2020-06-10 19:59:20.846505</td>\n",
       "      <td>e31f0f87-063b-4a6a-b34a-015a965609cd</td>\n",
       "      <td>1.0</td>\n",
       "      <td>80</td>\n",
       "      <td>0.0</td>\n",
       "      <td>7.799251</td>\n",
       "      <td>1.0</td>\n",
       "      <td>0.10</td>\n",
       "      <td>0.13</td>\n",
       "      <td>816340992.0</td>\n",
       "      <td>162684928.0</td>\n",
       "      <td>0.0</td>\n",
       "      <td>4096.0</td>\n",
       "      <td>sleeping</td>\n",
       "    </tr>\n",
       "    <tr>\n",
       "      <th>24</th>\n",
       "      <td>2</td>\n",
       "      <td>2020-06-10 19:59:20.874929</td>\n",
       "      <td>e31f0f87-063b-4a6a-b34a-015a965609cd</td>\n",
       "      <td>1.0</td>\n",
       "      <td>79</td>\n",
       "      <td>0.0</td>\n",
       "      <td>7.824190</td>\n",
       "      <td>1.0</td>\n",
       "      <td>0.27</td>\n",
       "      <td>0.18</td>\n",
       "      <td>816857088.0</td>\n",
       "      <td>163205120.0</td>\n",
       "      <td>0.0</td>\n",
       "      <td>4096.0</td>\n",
       "      <td>sleeping</td>\n",
       "    </tr>\n",
       "    <tr>\n",
       "      <th>25</th>\n",
       "      <td>3</td>\n",
       "      <td>2020-06-10 19:59:21.870924</td>\n",
       "      <td>e31f0f87-063b-4a6a-b34a-015a965609cd</td>\n",
       "      <td>1.0</td>\n",
       "      <td>80</td>\n",
       "      <td>0.0</td>\n",
       "      <td>7.811819</td>\n",
       "      <td>1.0</td>\n",
       "      <td>0.11</td>\n",
       "      <td>0.14</td>\n",
       "      <td>816603136.0</td>\n",
       "      <td>162947072.0</td>\n",
       "      <td>0.0</td>\n",
       "      <td>4096.0</td>\n",
       "      <td>sleeping</td>\n",
       "    </tr>\n",
       "    <tr>\n",
       "      <th>26</th>\n",
       "      <td>2</td>\n",
       "      <td>2020-06-10 19:59:21.898276</td>\n",
       "      <td>e31f0f87-063b-4a6a-b34a-015a965609cd</td>\n",
       "      <td>1.0</td>\n",
       "      <td>79</td>\n",
       "      <td>0.0</td>\n",
       "      <td>7.824190</td>\n",
       "      <td>1.0</td>\n",
       "      <td>0.29</td>\n",
       "      <td>0.18</td>\n",
       "      <td>816857088.0</td>\n",
       "      <td>163205120.0</td>\n",
       "      <td>0.0</td>\n",
       "      <td>4096.0</td>\n",
       "      <td>sleeping</td>\n",
       "    </tr>\n",
       "    <tr>\n",
       "      <th>27</th>\n",
       "      <td>3</td>\n",
       "      <td>2020-06-10 19:59:22.907031</td>\n",
       "      <td>e31f0f87-063b-4a6a-b34a-015a965609cd</td>\n",
       "      <td>1.0</td>\n",
       "      <td>80</td>\n",
       "      <td>0.0</td>\n",
       "      <td>7.811819</td>\n",
       "      <td>1.0</td>\n",
       "      <td>0.13</td>\n",
       "      <td>0.14</td>\n",
       "      <td>816865280.0</td>\n",
       "      <td>162947072.0</td>\n",
       "      <td>0.0</td>\n",
       "      <td>4096.0</td>\n",
       "      <td>sleeping</td>\n",
       "    </tr>\n",
       "    <tr>\n",
       "      <th>28</th>\n",
       "      <td>2</td>\n",
       "      <td>2020-06-10 19:59:22.923557</td>\n",
       "      <td>e31f0f87-063b-4a6a-b34a-015a965609cd</td>\n",
       "      <td>1.0</td>\n",
       "      <td>79</td>\n",
       "      <td>0.0</td>\n",
       "      <td>7.825368</td>\n",
       "      <td>1.0</td>\n",
       "      <td>0.30</td>\n",
       "      <td>0.18</td>\n",
       "      <td>883965952.0</td>\n",
       "      <td>163229696.0</td>\n",
       "      <td>0.0</td>\n",
       "      <td>4096.0</td>\n",
       "      <td>sleeping</td>\n",
       "    </tr>\n",
       "    <tr>\n",
       "      <th>29</th>\n",
       "      <td>3</td>\n",
       "      <td>2020-06-10 19:59:23.941936</td>\n",
       "      <td>e31f0f87-063b-4a6a-b34a-015a965609cd</td>\n",
       "      <td>1.0</td>\n",
       "      <td>80</td>\n",
       "      <td>0.0</td>\n",
       "      <td>7.824386</td>\n",
       "      <td>1.0</td>\n",
       "      <td>0.15</td>\n",
       "      <td>0.15</td>\n",
       "      <td>816865280.0</td>\n",
       "      <td>163209216.0</td>\n",
       "      <td>0.0</td>\n",
       "      <td>4096.0</td>\n",
       "      <td>sleeping</td>\n",
       "    </tr>\n",
       "    <tr>\n",
       "      <th>30</th>\n",
       "      <td>4</td>\n",
       "      <td>2020-06-10 19:59:24.916085</td>\n",
       "      <td>e31f0f87-063b-4a6a-b34a-015a965609cd</td>\n",
       "      <td>1.0</td>\n",
       "      <td>79</td>\n",
       "      <td>0.0</td>\n",
       "      <td>7.777258</td>\n",
       "      <td>1.0</td>\n",
       "      <td>0.11</td>\n",
       "      <td>0.13</td>\n",
       "      <td>950288384.0</td>\n",
       "      <td>162226176.0</td>\n",
       "      <td>0.0</td>\n",
       "      <td>8192.0</td>\n",
       "      <td>sleeping</td>\n",
       "    </tr>\n",
       "    <tr>\n",
       "      <th>31</th>\n",
       "      <td>3</td>\n",
       "      <td>2020-06-10 19:59:24.968603</td>\n",
       "      <td>e31f0f87-063b-4a6a-b34a-015a965609cd</td>\n",
       "      <td>1.0</td>\n",
       "      <td>80</td>\n",
       "      <td>0.0</td>\n",
       "      <td>7.824386</td>\n",
       "      <td>1.0</td>\n",
       "      <td>0.17</td>\n",
       "      <td>0.16</td>\n",
       "      <td>816865280.0</td>\n",
       "      <td>163209216.0</td>\n",
       "      <td>0.0</td>\n",
       "      <td>4096.0</td>\n",
       "      <td>sleeping</td>\n",
       "    </tr>\n",
       "    <tr>\n",
       "      <th>32</th>\n",
       "      <td>4</td>\n",
       "      <td>2020-06-10 19:59:25.949310</td>\n",
       "      <td>e31f0f87-063b-4a6a-b34a-015a965609cd</td>\n",
       "      <td>1.0</td>\n",
       "      <td>79</td>\n",
       "      <td>0.0</td>\n",
       "      <td>7.800626</td>\n",
       "      <td>1.0</td>\n",
       "      <td>0.13</td>\n",
       "      <td>0.13</td>\n",
       "      <td>950550528.0</td>\n",
       "      <td>162713600.0</td>\n",
       "      <td>0.0</td>\n",
       "      <td>8192.0</td>\n",
       "      <td>sleeping</td>\n",
       "    </tr>\n",
       "    <tr>\n",
       "      <th>33</th>\n",
       "      <td>3</td>\n",
       "      <td>2020-06-10 19:59:25.990455</td>\n",
       "      <td>e31f0f87-063b-4a6a-b34a-015a965609cd</td>\n",
       "      <td>1.0</td>\n",
       "      <td>80</td>\n",
       "      <td>0.0</td>\n",
       "      <td>7.824386</td>\n",
       "      <td>1.0</td>\n",
       "      <td>0.18</td>\n",
       "      <td>0.16</td>\n",
       "      <td>816865280.0</td>\n",
       "      <td>163209216.0</td>\n",
       "      <td>0.0</td>\n",
       "      <td>4096.0</td>\n",
       "      <td>sleeping</td>\n",
       "    </tr>\n",
       "    <tr>\n",
       "      <th>34</th>\n",
       "      <td>4</td>\n",
       "      <td>2020-06-10 19:59:27.032620</td>\n",
       "      <td>e31f0f87-063b-4a6a-b34a-015a965609cd</td>\n",
       "      <td>1.0</td>\n",
       "      <td>79</td>\n",
       "      <td>0.0</td>\n",
       "      <td>7.813193</td>\n",
       "      <td>1.0</td>\n",
       "      <td>0.18</td>\n",
       "      <td>0.14</td>\n",
       "      <td>950812672.0</td>\n",
       "      <td>162975744.0</td>\n",
       "      <td>0.0</td>\n",
       "      <td>8192.0</td>\n",
       "      <td>sleeping</td>\n",
       "    </tr>\n",
       "    <tr>\n",
       "      <th>35</th>\n",
       "      <td>3</td>\n",
       "      <td>2020-06-10 19:59:27.064473</td>\n",
       "      <td>e31f0f87-063b-4a6a-b34a-015a965609cd</td>\n",
       "      <td>1.0</td>\n",
       "      <td>80</td>\n",
       "      <td>0.0</td>\n",
       "      <td>7.824386</td>\n",
       "      <td>1.0</td>\n",
       "      <td>0.23</td>\n",
       "      <td>0.17</td>\n",
       "      <td>816865280.0</td>\n",
       "      <td>163209216.0</td>\n",
       "      <td>0.0</td>\n",
       "      <td>4096.0</td>\n",
       "      <td>sleeping</td>\n",
       "    </tr>\n",
       "    <tr>\n",
       "      <th>36</th>\n",
       "      <td>4</td>\n",
       "      <td>2020-06-10 19:59:28.107000</td>\n",
       "      <td>e31f0f87-063b-4a6a-b34a-015a965609cd</td>\n",
       "      <td>1.0</td>\n",
       "      <td>79</td>\n",
       "      <td>0.0</td>\n",
       "      <td>7.813193</td>\n",
       "      <td>1.0</td>\n",
       "      <td>0.22</td>\n",
       "      <td>0.16</td>\n",
       "      <td>951074816.0</td>\n",
       "      <td>162975744.0</td>\n",
       "      <td>0.0</td>\n",
       "      <td>8192.0</td>\n",
       "      <td>sleeping</td>\n",
       "    </tr>\n",
       "    <tr>\n",
       "      <th>37</th>\n",
       "      <td>3</td>\n",
       "      <td>2020-06-10 19:59:28.123365</td>\n",
       "      <td>e31f0f87-063b-4a6a-b34a-015a965609cd</td>\n",
       "      <td>1.0</td>\n",
       "      <td>80</td>\n",
       "      <td>0.0</td>\n",
       "      <td>7.824386</td>\n",
       "      <td>1.0</td>\n",
       "      <td>0.26</td>\n",
       "      <td>0.19</td>\n",
       "      <td>816865280.0</td>\n",
       "      <td>163209216.0</td>\n",
       "      <td>0.0</td>\n",
       "      <td>4096.0</td>\n",
       "      <td>sleeping</td>\n",
       "    </tr>\n",
       "    <tr>\n",
       "      <th>38</th>\n",
       "      <td>4</td>\n",
       "      <td>2020-06-10 19:59:29.133380</td>\n",
       "      <td>e31f0f87-063b-4a6a-b34a-015a965609cd</td>\n",
       "      <td>1.0</td>\n",
       "      <td>79</td>\n",
       "      <td>0.0</td>\n",
       "      <td>7.825761</td>\n",
       "      <td>1.0</td>\n",
       "      <td>0.24</td>\n",
       "      <td>0.16</td>\n",
       "      <td>951074816.0</td>\n",
       "      <td>163237888.0</td>\n",
       "      <td>0.0</td>\n",
       "      <td>8192.0</td>\n",
       "      <td>sleeping</td>\n",
       "    </tr>\n",
       "    <tr>\n",
       "      <th>39</th>\n",
       "      <td>3</td>\n",
       "      <td>2020-06-10 19:59:29.154792</td>\n",
       "      <td>e31f0f87-063b-4a6a-b34a-015a965609cd</td>\n",
       "      <td>1.0</td>\n",
       "      <td>80</td>\n",
       "      <td>0.0</td>\n",
       "      <td>7.824386</td>\n",
       "      <td>1.0</td>\n",
       "      <td>0.28</td>\n",
       "      <td>0.19</td>\n",
       "      <td>816865280.0</td>\n",
       "      <td>163209216.0</td>\n",
       "      <td>0.0</td>\n",
       "      <td>4096.0</td>\n",
       "      <td>sleeping</td>\n",
       "    </tr>\n",
       "    <tr>\n",
       "      <th>40</th>\n",
       "      <td>4</td>\n",
       "      <td>2020-06-10 19:59:30.177189</td>\n",
       "      <td>e31f0f87-063b-4a6a-b34a-015a965609cd</td>\n",
       "      <td>1.0</td>\n",
       "      <td>79</td>\n",
       "      <td>0.0</td>\n",
       "      <td>7.825761</td>\n",
       "      <td>1.0</td>\n",
       "      <td>0.26</td>\n",
       "      <td>0.17</td>\n",
       "      <td>951074816.0</td>\n",
       "      <td>163237888.0</td>\n",
       "      <td>0.0</td>\n",
       "      <td>8192.0</td>\n",
       "      <td>sleeping</td>\n",
       "    </tr>\n",
       "    <tr>\n",
       "      <th>41</th>\n",
       "      <td>3</td>\n",
       "      <td>2020-06-10 19:59:30.213648</td>\n",
       "      <td>e31f0f87-063b-4a6a-b34a-015a965609cd</td>\n",
       "      <td>1.0</td>\n",
       "      <td>80</td>\n",
       "      <td>0.0</td>\n",
       "      <td>7.824386</td>\n",
       "      <td>1.0</td>\n",
       "      <td>0.31</td>\n",
       "      <td>0.20</td>\n",
       "      <td>816865280.0</td>\n",
       "      <td>163209216.0</td>\n",
       "      <td>0.0</td>\n",
       "      <td>4096.0</td>\n",
       "      <td>sleeping</td>\n",
       "    </tr>\n",
       "    <tr>\n",
       "      <th>42</th>\n",
       "      <td>4</td>\n",
       "      <td>2020-06-10 19:59:31.203636</td>\n",
       "      <td>e31f0f87-063b-4a6a-b34a-015a965609cd</td>\n",
       "      <td>1.0</td>\n",
       "      <td>79</td>\n",
       "      <td>0.0</td>\n",
       "      <td>7.825761</td>\n",
       "      <td>1.0</td>\n",
       "      <td>0.28</td>\n",
       "      <td>0.17</td>\n",
       "      <td>951074816.0</td>\n",
       "      <td>163237888.0</td>\n",
       "      <td>0.0</td>\n",
       "      <td>8192.0</td>\n",
       "      <td>sleeping</td>\n",
       "    </tr>\n",
       "    <tr>\n",
       "      <th>43</th>\n",
       "      <td>3</td>\n",
       "      <td>2020-06-10 19:59:31.244702</td>\n",
       "      <td>e31f0f87-063b-4a6a-b34a-015a965609cd</td>\n",
       "      <td>1.0</td>\n",
       "      <td>80</td>\n",
       "      <td>0.0</td>\n",
       "      <td>7.824386</td>\n",
       "      <td>1.0</td>\n",
       "      <td>0.33</td>\n",
       "      <td>0.20</td>\n",
       "      <td>816865280.0</td>\n",
       "      <td>163209216.0</td>\n",
       "      <td>0.0</td>\n",
       "      <td>4096.0</td>\n",
       "      <td>sleeping</td>\n",
       "    </tr>\n",
       "    <tr>\n",
       "      <th>44</th>\n",
       "      <td>4</td>\n",
       "      <td>2020-06-10 19:59:32.226459</td>\n",
       "      <td>e31f0f87-063b-4a6a-b34a-015a965609cd</td>\n",
       "      <td>1.0</td>\n",
       "      <td>79</td>\n",
       "      <td>0.0</td>\n",
       "      <td>7.825761</td>\n",
       "      <td>1.0</td>\n",
       "      <td>0.29</td>\n",
       "      <td>0.18</td>\n",
       "      <td>951074816.0</td>\n",
       "      <td>163237888.0</td>\n",
       "      <td>0.0</td>\n",
       "      <td>8192.0</td>\n",
       "      <td>sleeping</td>\n",
       "    </tr>\n",
       "    <tr>\n",
       "      <th>45</th>\n",
       "      <td>3</td>\n",
       "      <td>2020-06-10 19:59:32.270104</td>\n",
       "      <td>e31f0f87-063b-4a6a-b34a-015a965609cd</td>\n",
       "      <td>1.0</td>\n",
       "      <td>80</td>\n",
       "      <td>0.0</td>\n",
       "      <td>7.824386</td>\n",
       "      <td>1.0</td>\n",
       "      <td>0.34</td>\n",
       "      <td>0.21</td>\n",
       "      <td>816865280.0</td>\n",
       "      <td>163209216.0</td>\n",
       "      <td>0.0</td>\n",
       "      <td>4096.0</td>\n",
       "      <td>sleeping</td>\n",
       "    </tr>\n",
       "    <tr>\n",
       "      <th>46</th>\n",
       "      <td>4</td>\n",
       "      <td>2020-06-10 19:59:33.255388</td>\n",
       "      <td>e31f0f87-063b-4a6a-b34a-015a965609cd</td>\n",
       "      <td>1.0</td>\n",
       "      <td>79</td>\n",
       "      <td>0.0</td>\n",
       "      <td>7.825761</td>\n",
       "      <td>1.0</td>\n",
       "      <td>0.31</td>\n",
       "      <td>0.18</td>\n",
       "      <td>951074816.0</td>\n",
       "      <td>163237888.0</td>\n",
       "      <td>0.0</td>\n",
       "      <td>8192.0</td>\n",
       "      <td>sleeping</td>\n",
       "    </tr>\n",
       "    <tr>\n",
       "      <th>47</th>\n",
       "      <td>3</td>\n",
       "      <td>2020-06-10 19:59:33.298121</td>\n",
       "      <td>e31f0f87-063b-4a6a-b34a-015a965609cd</td>\n",
       "      <td>1.0</td>\n",
       "      <td>80</td>\n",
       "      <td>1.0</td>\n",
       "      <td>7.825564</td>\n",
       "      <td>1.0</td>\n",
       "      <td>0.37</td>\n",
       "      <td>0.21</td>\n",
       "      <td>883974144.0</td>\n",
       "      <td>163233792.0</td>\n",
       "      <td>0.0</td>\n",
       "      <td>4096.0</td>\n",
       "      <td>sleeping</td>\n",
       "    </tr>\n",
       "    <tr>\n",
       "      <th>48</th>\n",
       "      <td>4</td>\n",
       "      <td>2020-06-10 19:59:34.311973</td>\n",
       "      <td>e31f0f87-063b-4a6a-b34a-015a965609cd</td>\n",
       "      <td>1.0</td>\n",
       "      <td>79</td>\n",
       "      <td>0.0</td>\n",
       "      <td>7.825761</td>\n",
       "      <td>1.0</td>\n",
       "      <td>0.34</td>\n",
       "      <td>0.19</td>\n",
       "      <td>951074816.0</td>\n",
       "      <td>163237888.0</td>\n",
       "      <td>0.0</td>\n",
       "      <td>8192.0</td>\n",
       "      <td>sleeping</td>\n",
       "    </tr>\n",
       "    <tr>\n",
       "      <th>49</th>\n",
       "      <td>4</td>\n",
       "      <td>2020-06-10 19:59:35.378767</td>\n",
       "      <td>e31f0f87-063b-4a6a-b34a-015a965609cd</td>\n",
       "      <td>1.0</td>\n",
       "      <td>79</td>\n",
       "      <td>0.0</td>\n",
       "      <td>7.826154</td>\n",
       "      <td>1.0</td>\n",
       "      <td>0.39</td>\n",
       "      <td>0.20</td>\n",
       "      <td>951074816.0</td>\n",
       "      <td>163246080.0</td>\n",
       "      <td>0.0</td>\n",
       "      <td>8192.0</td>\n",
       "      <td>sleeping</td>\n",
       "    </tr>\n",
       "  </tbody>\n",
       "</table>\n",
       "</div>"
      ],
      "text/plain": [
       "    task_id                   timestamp                                run_id  \\\n",
       "0         0  2020-06-10 19:59:08.299433  e31f0f87-063b-4a6a-b34a-015a965609cd   \n",
       "1         1  2020-06-10 19:59:08.300886  e31f0f87-063b-4a6a-b34a-015a965609cd   \n",
       "2         0  2020-06-10 19:59:09.329773  e31f0f87-063b-4a6a-b34a-015a965609cd   \n",
       "3         1  2020-06-10 19:59:09.331568  e31f0f87-063b-4a6a-b34a-015a965609cd   \n",
       "4         2  2020-06-10 19:59:09.567300  e31f0f87-063b-4a6a-b34a-015a965609cd   \n",
       "5         1  2020-06-10 19:59:10.358324  e31f0f87-063b-4a6a-b34a-015a965609cd   \n",
       "6         2  2020-06-10 19:59:10.594959  e31f0f87-063b-4a6a-b34a-015a965609cd   \n",
       "7         1  2020-06-10 19:59:11.380334  e31f0f87-063b-4a6a-b34a-015a965609cd   \n",
       "8         2  2020-06-10 19:59:11.636826  e31f0f87-063b-4a6a-b34a-015a965609cd   \n",
       "9         1  2020-06-10 19:59:12.416775  e31f0f87-063b-4a6a-b34a-015a965609cd   \n",
       "10        2  2020-06-10 19:59:12.659252  e31f0f87-063b-4a6a-b34a-015a965609cd   \n",
       "11        1  2020-06-10 19:59:13.466099  e31f0f87-063b-4a6a-b34a-015a965609cd   \n",
       "12        2  2020-06-10 19:59:13.682142  e31f0f87-063b-4a6a-b34a-015a965609cd   \n",
       "13        1  2020-06-10 19:59:14.509228  e31f0f87-063b-4a6a-b34a-015a965609cd   \n",
       "14        2  2020-06-10 19:59:14.705150  e31f0f87-063b-4a6a-b34a-015a965609cd   \n",
       "15        1  2020-06-10 19:59:15.529186  e31f0f87-063b-4a6a-b34a-015a965609cd   \n",
       "16        2  2020-06-10 19:59:15.728653  e31f0f87-063b-4a6a-b34a-015a965609cd   \n",
       "17        1  2020-06-10 19:59:16.554108  e31f0f87-063b-4a6a-b34a-015a965609cd   \n",
       "18        2  2020-06-10 19:59:16.752914  e31f0f87-063b-4a6a-b34a-015a965609cd   \n",
       "19        2  2020-06-10 19:59:17.777485  e31f0f87-063b-4a6a-b34a-015a965609cd   \n",
       "20        2  2020-06-10 19:59:18.829037  e31f0f87-063b-4a6a-b34a-015a965609cd   \n",
       "21        3  2020-06-10 19:59:19.795906  e31f0f87-063b-4a6a-b34a-015a965609cd   \n",
       "22        2  2020-06-10 19:59:19.852083  e31f0f87-063b-4a6a-b34a-015a965609cd   \n",
       "23        3  2020-06-10 19:59:20.846505  e31f0f87-063b-4a6a-b34a-015a965609cd   \n",
       "24        2  2020-06-10 19:59:20.874929  e31f0f87-063b-4a6a-b34a-015a965609cd   \n",
       "25        3  2020-06-10 19:59:21.870924  e31f0f87-063b-4a6a-b34a-015a965609cd   \n",
       "26        2  2020-06-10 19:59:21.898276  e31f0f87-063b-4a6a-b34a-015a965609cd   \n",
       "27        3  2020-06-10 19:59:22.907031  e31f0f87-063b-4a6a-b34a-015a965609cd   \n",
       "28        2  2020-06-10 19:59:22.923557  e31f0f87-063b-4a6a-b34a-015a965609cd   \n",
       "29        3  2020-06-10 19:59:23.941936  e31f0f87-063b-4a6a-b34a-015a965609cd   \n",
       "30        4  2020-06-10 19:59:24.916085  e31f0f87-063b-4a6a-b34a-015a965609cd   \n",
       "31        3  2020-06-10 19:59:24.968603  e31f0f87-063b-4a6a-b34a-015a965609cd   \n",
       "32        4  2020-06-10 19:59:25.949310  e31f0f87-063b-4a6a-b34a-015a965609cd   \n",
       "33        3  2020-06-10 19:59:25.990455  e31f0f87-063b-4a6a-b34a-015a965609cd   \n",
       "34        4  2020-06-10 19:59:27.032620  e31f0f87-063b-4a6a-b34a-015a965609cd   \n",
       "35        3  2020-06-10 19:59:27.064473  e31f0f87-063b-4a6a-b34a-015a965609cd   \n",
       "36        4  2020-06-10 19:59:28.107000  e31f0f87-063b-4a6a-b34a-015a965609cd   \n",
       "37        3  2020-06-10 19:59:28.123365  e31f0f87-063b-4a6a-b34a-015a965609cd   \n",
       "38        4  2020-06-10 19:59:29.133380  e31f0f87-063b-4a6a-b34a-015a965609cd   \n",
       "39        3  2020-06-10 19:59:29.154792  e31f0f87-063b-4a6a-b34a-015a965609cd   \n",
       "40        4  2020-06-10 19:59:30.177189  e31f0f87-063b-4a6a-b34a-015a965609cd   \n",
       "41        3  2020-06-10 19:59:30.213648  e31f0f87-063b-4a6a-b34a-015a965609cd   \n",
       "42        4  2020-06-10 19:59:31.203636  e31f0f87-063b-4a6a-b34a-015a965609cd   \n",
       "43        3  2020-06-10 19:59:31.244702  e31f0f87-063b-4a6a-b34a-015a965609cd   \n",
       "44        4  2020-06-10 19:59:32.226459  e31f0f87-063b-4a6a-b34a-015a965609cd   \n",
       "45        3  2020-06-10 19:59:32.270104  e31f0f87-063b-4a6a-b34a-015a965609cd   \n",
       "46        4  2020-06-10 19:59:33.255388  e31f0f87-063b-4a6a-b34a-015a965609cd   \n",
       "47        3  2020-06-10 19:59:33.298121  e31f0f87-063b-4a6a-b34a-015a965609cd   \n",
       "48        4  2020-06-10 19:59:34.311973  e31f0f87-063b-4a6a-b34a-015a965609cd   \n",
       "49        4  2020-06-10 19:59:35.378767  e31f0f87-063b-4a6a-b34a-015a965609cd   \n",
       "\n",
       "    resource_monitoring_interval  psutil_process_pid  \\\n",
       "0                            1.0                  79   \n",
       "1                            1.0                  80   \n",
       "2                            1.0                  79   \n",
       "3                            1.0                  80   \n",
       "4                            1.0                  79   \n",
       "5                            1.0                  80   \n",
       "6                            1.0                  79   \n",
       "7                            1.0                  80   \n",
       "8                            1.0                  79   \n",
       "9                            1.0                  80   \n",
       "10                           1.0                  79   \n",
       "11                           1.0                  80   \n",
       "12                           1.0                  79   \n",
       "13                           1.0                  80   \n",
       "14                           1.0                  79   \n",
       "15                           1.0                  80   \n",
       "16                           1.0                  79   \n",
       "17                           1.0                  80   \n",
       "18                           1.0                  79   \n",
       "19                           1.0                  79   \n",
       "20                           1.0                  79   \n",
       "21                           1.0                  80   \n",
       "22                           1.0                  79   \n",
       "23                           1.0                  80   \n",
       "24                           1.0                  79   \n",
       "25                           1.0                  80   \n",
       "26                           1.0                  79   \n",
       "27                           1.0                  80   \n",
       "28                           1.0                  79   \n",
       "29                           1.0                  80   \n",
       "30                           1.0                  79   \n",
       "31                           1.0                  80   \n",
       "32                           1.0                  79   \n",
       "33                           1.0                  80   \n",
       "34                           1.0                  79   \n",
       "35                           1.0                  80   \n",
       "36                           1.0                  79   \n",
       "37                           1.0                  80   \n",
       "38                           1.0                  79   \n",
       "39                           1.0                  80   \n",
       "40                           1.0                  79   \n",
       "41                           1.0                  80   \n",
       "42                           1.0                  79   \n",
       "43                           1.0                  80   \n",
       "44                           1.0                  79   \n",
       "45                           1.0                  80   \n",
       "46                           1.0                  79   \n",
       "47                           1.0                  80   \n",
       "48                           1.0                  79   \n",
       "49                           1.0                  79   \n",
       "\n",
       "    psutil_process_cpu_percent  psutil_process_memory_percent  \\\n",
       "0                          0.0                       6.833329   \n",
       "1                          0.0                       6.832740   \n",
       "2                          0.0                       6.840791   \n",
       "3                          0.0                       6.839220   \n",
       "4                          0.0                       7.775688   \n",
       "5                          0.0                       6.839220   \n",
       "6                          0.0                       7.799055   \n",
       "7                          0.0                       6.839220   \n",
       "8                          0.0                       7.811622   \n",
       "9                          0.0                       6.839220   \n",
       "10                         0.0                       7.811622   \n",
       "11                         0.0                       6.839220   \n",
       "12                         0.0                       7.811622   \n",
       "13                         0.0                       6.839220   \n",
       "14                         0.0                       7.824190   \n",
       "15                         0.0                       6.839220   \n",
       "16                         0.0                       7.824190   \n",
       "17                         0.0                       6.840202   \n",
       "18                         0.0                       7.824190   \n",
       "19                         0.0                       7.824190   \n",
       "20                         0.0                       7.824190   \n",
       "21                         0.0                       7.776080   \n",
       "22                         0.0                       7.824190   \n",
       "23                         0.0                       7.799251   \n",
       "24                         0.0                       7.824190   \n",
       "25                         0.0                       7.811819   \n",
       "26                         0.0                       7.824190   \n",
       "27                         0.0                       7.811819   \n",
       "28                         0.0                       7.825368   \n",
       "29                         0.0                       7.824386   \n",
       "30                         0.0                       7.777258   \n",
       "31                         0.0                       7.824386   \n",
       "32                         0.0                       7.800626   \n",
       "33                         0.0                       7.824386   \n",
       "34                         0.0                       7.813193   \n",
       "35                         0.0                       7.824386   \n",
       "36                         0.0                       7.813193   \n",
       "37                         0.0                       7.824386   \n",
       "38                         0.0                       7.825761   \n",
       "39                         0.0                       7.824386   \n",
       "40                         0.0                       7.825761   \n",
       "41                         0.0                       7.824386   \n",
       "42                         0.0                       7.825761   \n",
       "43                         0.0                       7.824386   \n",
       "44                         0.0                       7.825761   \n",
       "45                         0.0                       7.824386   \n",
       "46                         0.0                       7.825761   \n",
       "47                         1.0                       7.825564   \n",
       "48                         0.0                       7.825761   \n",
       "49                         0.0                       7.826154   \n",
       "\n",
       "    psutil_process_children_count  psutil_process_time_user  \\\n",
       "0                             1.0                      0.01   \n",
       "1                             1.0                      0.01   \n",
       "2                             1.0                      0.03   \n",
       "3                             1.0                      0.03   \n",
       "4                             1.0                      0.10   \n",
       "5                             1.0                      0.05   \n",
       "6                             1.0                      0.12   \n",
       "7                             1.0                      0.06   \n",
       "8                             1.0                      0.13   \n",
       "9                             1.0                      0.08   \n",
       "10                            1.0                      0.15   \n",
       "11                            1.0                      0.11   \n",
       "12                            1.0                      0.16   \n",
       "13                            1.0                      0.14   \n",
       "14                            1.0                      0.18   \n",
       "15                            1.0                      0.15   \n",
       "16                            1.0                      0.19   \n",
       "17                            1.0                      0.17   \n",
       "18                            1.0                      0.20   \n",
       "19                            1.0                      0.22   \n",
       "20                            1.0                      0.24   \n",
       "21                            1.0                      0.07   \n",
       "22                            1.0                      0.26   \n",
       "23                            1.0                      0.10   \n",
       "24                            1.0                      0.27   \n",
       "25                            1.0                      0.11   \n",
       "26                            1.0                      0.29   \n",
       "27                            1.0                      0.13   \n",
       "28                            1.0                      0.30   \n",
       "29                            1.0                      0.15   \n",
       "30                            1.0                      0.11   \n",
       "31                            1.0                      0.17   \n",
       "32                            1.0                      0.13   \n",
       "33                            1.0                      0.18   \n",
       "34                            1.0                      0.18   \n",
       "35                            1.0                      0.23   \n",
       "36                            1.0                      0.22   \n",
       "37                            1.0                      0.26   \n",
       "38                            1.0                      0.24   \n",
       "39                            1.0                      0.28   \n",
       "40                            1.0                      0.26   \n",
       "41                            1.0                      0.31   \n",
       "42                            1.0                      0.28   \n",
       "43                            1.0                      0.33   \n",
       "44                            1.0                      0.29   \n",
       "45                            1.0                      0.34   \n",
       "46                            1.0                      0.31   \n",
       "47                            1.0                      0.37   \n",
       "48                            1.0                      0.34   \n",
       "49                            1.0                      0.39   \n",
       "\n",
       "    psutil_process_time_system  psutil_process_memory_virtual  \\\n",
       "0                         0.00                    580947968.0   \n",
       "1                         0.00                    580947968.0   \n",
       "2                         0.01                    580947968.0   \n",
       "3                         0.01                    580947968.0   \n",
       "4                         0.12                    816070656.0   \n",
       "5                         0.01                    580947968.0   \n",
       "6                         0.13                    816332800.0   \n",
       "7                         0.01                    580947968.0   \n",
       "8                         0.13                    816594944.0   \n",
       "9                         0.02                    580947968.0   \n",
       "10                        0.14                    816857088.0   \n",
       "11                        0.03                    580947968.0   \n",
       "12                        0.14                    816857088.0   \n",
       "13                        0.03                    580947968.0   \n",
       "14                        0.14                    816857088.0   \n",
       "15                        0.04                    580947968.0   \n",
       "16                        0.15                    816857088.0   \n",
       "17                        0.04                    580947968.0   \n",
       "18                        0.15                    816857088.0   \n",
       "19                        0.16                    816857088.0   \n",
       "20                        0.17                    816857088.0   \n",
       "21                        0.12                    816078848.0   \n",
       "22                        0.18                    816857088.0   \n",
       "23                        0.13                    816340992.0   \n",
       "24                        0.18                    816857088.0   \n",
       "25                        0.14                    816603136.0   \n",
       "26                        0.18                    816857088.0   \n",
       "27                        0.14                    816865280.0   \n",
       "28                        0.18                    883965952.0   \n",
       "29                        0.15                    816865280.0   \n",
       "30                        0.13                    950288384.0   \n",
       "31                        0.16                    816865280.0   \n",
       "32                        0.13                    950550528.0   \n",
       "33                        0.16                    816865280.0   \n",
       "34                        0.14                    950812672.0   \n",
       "35                        0.17                    816865280.0   \n",
       "36                        0.16                    951074816.0   \n",
       "37                        0.19                    816865280.0   \n",
       "38                        0.16                    951074816.0   \n",
       "39                        0.19                    816865280.0   \n",
       "40                        0.17                    951074816.0   \n",
       "41                        0.20                    816865280.0   \n",
       "42                        0.17                    951074816.0   \n",
       "43                        0.20                    816865280.0   \n",
       "44                        0.18                    951074816.0   \n",
       "45                        0.21                    816865280.0   \n",
       "46                        0.18                    951074816.0   \n",
       "47                        0.21                    883974144.0   \n",
       "48                        0.19                    951074816.0   \n",
       "49                        0.20                    951074816.0   \n",
       "\n",
       "    psutil_process_memory_resident  psutil_process_disk_read  \\\n",
       "0                      142536704.0                       0.0   \n",
       "1                      142524416.0                       0.0   \n",
       "2                      142692352.0                       0.0   \n",
       "3                      142659584.0                       0.0   \n",
       "4                      162193408.0                       0.0   \n",
       "5                      142659584.0                       0.0   \n",
       "6                      162680832.0                       0.0   \n",
       "7                      142659584.0                       0.0   \n",
       "8                      162942976.0                       0.0   \n",
       "9                      142659584.0                       0.0   \n",
       "10                     162942976.0                       0.0   \n",
       "11                     142659584.0                       0.0   \n",
       "12                     162942976.0                       0.0   \n",
       "13                     142659584.0                       0.0   \n",
       "14                     163205120.0                       0.0   \n",
       "15                     142659584.0                       0.0   \n",
       "16                     163205120.0                       0.0   \n",
       "17                     142680064.0                       0.0   \n",
       "18                     163205120.0                       0.0   \n",
       "19                     163205120.0                       0.0   \n",
       "20                     163205120.0                       0.0   \n",
       "21                     162201600.0                       0.0   \n",
       "22                     163205120.0                       0.0   \n",
       "23                     162684928.0                       0.0   \n",
       "24                     163205120.0                       0.0   \n",
       "25                     162947072.0                       0.0   \n",
       "26                     163205120.0                       0.0   \n",
       "27                     162947072.0                       0.0   \n",
       "28                     163229696.0                       0.0   \n",
       "29                     163209216.0                       0.0   \n",
       "30                     162226176.0                       0.0   \n",
       "31                     163209216.0                       0.0   \n",
       "32                     162713600.0                       0.0   \n",
       "33                     163209216.0                       0.0   \n",
       "34                     162975744.0                       0.0   \n",
       "35                     163209216.0                       0.0   \n",
       "36                     162975744.0                       0.0   \n",
       "37                     163209216.0                       0.0   \n",
       "38                     163237888.0                       0.0   \n",
       "39                     163209216.0                       0.0   \n",
       "40                     163237888.0                       0.0   \n",
       "41                     163209216.0                       0.0   \n",
       "42                     163237888.0                       0.0   \n",
       "43                     163209216.0                       0.0   \n",
       "44                     163237888.0                       0.0   \n",
       "45                     163209216.0                       0.0   \n",
       "46                     163237888.0                       0.0   \n",
       "47                     163233792.0                       0.0   \n",
       "48                     163237888.0                       0.0   \n",
       "49                     163246080.0                       0.0   \n",
       "\n",
       "    psutil_process_disk_write psutil_process_status  \n",
       "0                         0.0              sleeping  \n",
       "1                         0.0              sleeping  \n",
       "2                         0.0              sleeping  \n",
       "3                         0.0              sleeping  \n",
       "4                      4096.0              sleeping  \n",
       "5                         0.0              sleeping  \n",
       "6                      4096.0              sleeping  \n",
       "7                         0.0              sleeping  \n",
       "8                      4096.0              sleeping  \n",
       "9                         0.0              sleeping  \n",
       "10                     4096.0              sleeping  \n",
       "11                        0.0              sleeping  \n",
       "12                     4096.0              sleeping  \n",
       "13                        0.0              sleeping  \n",
       "14                     4096.0              sleeping  \n",
       "15                        0.0              sleeping  \n",
       "16                     4096.0              sleeping  \n",
       "17                        0.0              sleeping  \n",
       "18                     4096.0              sleeping  \n",
       "19                     4096.0              sleeping  \n",
       "20                     4096.0              sleeping  \n",
       "21                     4096.0              sleeping  \n",
       "22                     4096.0              sleeping  \n",
       "23                     4096.0              sleeping  \n",
       "24                     4096.0              sleeping  \n",
       "25                     4096.0              sleeping  \n",
       "26                     4096.0              sleeping  \n",
       "27                     4096.0              sleeping  \n",
       "28                     4096.0              sleeping  \n",
       "29                     4096.0              sleeping  \n",
       "30                     8192.0              sleeping  \n",
       "31                     4096.0              sleeping  \n",
       "32                     8192.0              sleeping  \n",
       "33                     4096.0              sleeping  \n",
       "34                     8192.0              sleeping  \n",
       "35                     4096.0              sleeping  \n",
       "36                     8192.0              sleeping  \n",
       "37                     4096.0              sleeping  \n",
       "38                     8192.0              sleeping  \n",
       "39                     4096.0              sleeping  \n",
       "40                     8192.0              sleeping  \n",
       "41                     4096.0              sleeping  \n",
       "42                     8192.0              sleeping  \n",
       "43                     4096.0              sleeping  \n",
       "44                     8192.0              sleeping  \n",
       "45                     4096.0              sleeping  \n",
       "46                     8192.0              sleeping  \n",
       "47                     4096.0              sleeping  \n",
       "48                     8192.0              sleeping  \n",
       "49                     8192.0              sleeping  "
      ]
     },
     "execution_count": 6,
     "metadata": {},
     "output_type": "execute_result"
    }
   ],
   "source": [
    "df_resource = pd.read_sql_query('SELECT * from resource where run_id=\"%s\"' % run_id, conn)\n",
    "df_resource"
   ]
  },
  {
   "cell_type": "markdown",
   "metadata": {},
   "source": [
    "## Visualizing monitoring data\n",
    "\n",
    "The monitoring data can be visualized directly in the Jupyter notebook using many of the Python graphing libraries. The following examples use Plotly.\n",
    "\n",
    "First we show a gantt chart of task execution times. It shows when a task was submitted, when it was executed, and when it completed."
   ]
  },
  {
   "cell_type": "code",
   "execution_count": 11,
   "metadata": {},
   "outputs": [
    {
     "data": {
      "application/vnd.plotly.v1+json": {
       "config": {
        "plotlyServerURL": "https://plot.ly"
       },
       "data": [
        {
         "fill": "toself",
         "fillcolor": "rgb(0, 0, 255)",
         "hoverinfo": "name",
         "legendgroup": "rgb(0, 0, 255)",
         "mode": "none",
         "name": "Running",
         "type": "scatter",
         "x": [
          "2020-06-10 19:59:08.299433",
          "2020-06-10 19:59:09.431409",
          "2020-06-10 19:59:09.431409",
          "2020-06-10 19:59:08.299433",
          "2020-06-10 19:59:08.299433",
          "2020-06-10 19:59:08.300886",
          "2020-06-10 19:59:16.631662",
          "2020-06-10 19:59:16.631662",
          "2020-06-10 19:59:08.300886",
          "2020-06-10 19:59:08.300886",
          "2020-06-10 19:59:09.567300",
          "2020-06-10 19:59:22.940389",
          "2020-06-10 19:59:22.940389",
          "2020-06-10 19:59:09.567300",
          "2020-06-10 19:59:09.567300",
          "2020-06-10 19:59:19.795906",
          "2020-06-10 19:59:33.318549",
          "2020-06-10 19:59:33.318549",
          "2020-06-10 19:59:19.795906",
          "2020-06-10 19:59:19.795906",
          "2020-06-10 19:59:24.916085",
          "2020-06-10 19:59:35.394998",
          "2020-06-10 19:59:35.394998",
          "2020-06-10 19:59:24.916085"
         ],
         "y": [
          3.8,
          3.8,
          4.2,
          4.2,
          null,
          2.8,
          2.8,
          3.2,
          3.2,
          null,
          1.8,
          1.8,
          2.2,
          2.2,
          null,
          0.8,
          0.8,
          1.2,
          1.2,
          null,
          -0.2,
          -0.2,
          0.2,
          0.2
         ]
        },
        {
         "fill": "toself",
         "fillcolor": "rgb(168, 168, 168)",
         "hoverinfo": "name",
         "legendgroup": "rgb(168, 168, 168)",
         "mode": "none",
         "name": "Pending",
         "type": "scatter",
         "x": [
          "2020-06-10 19:59:07.541152",
          "2020-06-10 19:59:08.299433",
          "2020-06-10 19:59:08.299433",
          "2020-06-10 19:59:07.541152",
          "2020-06-10 19:59:07.541152",
          "2020-06-10 19:59:07.692679",
          "2020-06-10 19:59:08.300886",
          "2020-06-10 19:59:08.300886",
          "2020-06-10 19:59:07.692679",
          "2020-06-10 19:59:07.692679",
          "2020-06-10 19:59:07.697526",
          "2020-06-10 19:59:09.567300",
          "2020-06-10 19:59:09.567300",
          "2020-06-10 19:59:07.697526",
          "2020-06-10 19:59:07.697526",
          "2020-06-10 19:59:07.701133",
          "2020-06-10 19:59:19.795906",
          "2020-06-10 19:59:19.795906",
          "2020-06-10 19:59:07.701133",
          "2020-06-10 19:59:07.701133",
          "2020-06-10 19:59:07.704660",
          "2020-06-10 19:59:24.916085",
          "2020-06-10 19:59:24.916085",
          "2020-06-10 19:59:07.704660"
         ],
         "y": [
          3.8,
          3.8,
          4.2,
          4.2,
          null,
          2.8,
          2.8,
          3.2,
          3.2,
          null,
          1.8,
          1.8,
          2.2,
          2.2,
          null,
          0.8,
          0.8,
          1.2,
          1.2,
          null,
          -0.2,
          -0.2,
          0.2,
          0.2
         ]
        },
        {
         "legendgroup": "rgb(0, 0, 255)",
         "marker": {
          "color": "rgb(0, 0, 255)",
          "opacity": 0,
          "size": 1
         },
         "mode": "markers",
         "name": "",
         "showlegend": false,
         "text": [
          null,
          null,
          null,
          null,
          null,
          null,
          null,
          null,
          null,
          null
         ],
         "type": "scatter",
         "x": [
          "2020-06-10 19:59:08.299433",
          "2020-06-10 19:59:09.431409",
          "2020-06-10 19:59:08.300886",
          "2020-06-10 19:59:16.631662",
          "2020-06-10 19:59:09.567300",
          "2020-06-10 19:59:22.940389",
          "2020-06-10 19:59:19.795906",
          "2020-06-10 19:59:33.318549",
          "2020-06-10 19:59:24.916085",
          "2020-06-10 19:59:35.394998"
         ],
         "y": [
          4,
          4,
          3,
          3,
          2,
          2,
          1,
          1,
          0,
          0
         ]
        },
        {
         "legendgroup": "rgb(168, 168, 168)",
         "marker": {
          "color": "rgb(168, 168, 168)",
          "opacity": 0,
          "size": 1
         },
         "mode": "markers",
         "name": "",
         "showlegend": false,
         "text": [
          null,
          null,
          null,
          null,
          null,
          null,
          null,
          null,
          null,
          null
         ],
         "type": "scatter",
         "x": [
          "2020-06-10 19:59:07.541152",
          "2020-06-10 19:59:08.299433",
          "2020-06-10 19:59:07.692679",
          "2020-06-10 19:59:08.300886",
          "2020-06-10 19:59:07.697526",
          "2020-06-10 19:59:09.567300",
          "2020-06-10 19:59:07.701133",
          "2020-06-10 19:59:19.795906",
          "2020-06-10 19:59:07.704660",
          "2020-06-10 19:59:24.916085"
         ],
         "y": [
          4,
          4,
          3,
          3,
          2,
          2,
          1,
          1,
          0,
          0
         ]
        }
       ],
       "layout": {
        "height": 600,
        "hovermode": "closest",
        "showlegend": true,
        "template": {
         "data": {
          "bar": [
           {
            "error_x": {
             "color": "#2a3f5f"
            },
            "error_y": {
             "color": "#2a3f5f"
            },
            "marker": {
             "line": {
              "color": "#E5ECF6",
              "width": 0.5
             }
            },
            "type": "bar"
           }
          ],
          "barpolar": [
           {
            "marker": {
             "line": {
              "color": "#E5ECF6",
              "width": 0.5
             }
            },
            "type": "barpolar"
           }
          ],
          "carpet": [
           {
            "aaxis": {
             "endlinecolor": "#2a3f5f",
             "gridcolor": "white",
             "linecolor": "white",
             "minorgridcolor": "white",
             "startlinecolor": "#2a3f5f"
            },
            "baxis": {
             "endlinecolor": "#2a3f5f",
             "gridcolor": "white",
             "linecolor": "white",
             "minorgridcolor": "white",
             "startlinecolor": "#2a3f5f"
            },
            "type": "carpet"
           }
          ],
          "choropleth": [
           {
            "colorbar": {
             "outlinewidth": 0,
             "ticks": ""
            },
            "type": "choropleth"
           }
          ],
          "contour": [
           {
            "colorbar": {
             "outlinewidth": 0,
             "ticks": ""
            },
            "colorscale": [
             [
              0,
              "#0d0887"
             ],
             [
              0.1111111111111111,
              "#46039f"
             ],
             [
              0.2222222222222222,
              "#7201a8"
             ],
             [
              0.3333333333333333,
              "#9c179e"
             ],
             [
              0.4444444444444444,
              "#bd3786"
             ],
             [
              0.5555555555555556,
              "#d8576b"
             ],
             [
              0.6666666666666666,
              "#ed7953"
             ],
             [
              0.7777777777777778,
              "#fb9f3a"
             ],
             [
              0.8888888888888888,
              "#fdca26"
             ],
             [
              1,
              "#f0f921"
             ]
            ],
            "type": "contour"
           }
          ],
          "contourcarpet": [
           {
            "colorbar": {
             "outlinewidth": 0,
             "ticks": ""
            },
            "type": "contourcarpet"
           }
          ],
          "heatmap": [
           {
            "colorbar": {
             "outlinewidth": 0,
             "ticks": ""
            },
            "colorscale": [
             [
              0,
              "#0d0887"
             ],
             [
              0.1111111111111111,
              "#46039f"
             ],
             [
              0.2222222222222222,
              "#7201a8"
             ],
             [
              0.3333333333333333,
              "#9c179e"
             ],
             [
              0.4444444444444444,
              "#bd3786"
             ],
             [
              0.5555555555555556,
              "#d8576b"
             ],
             [
              0.6666666666666666,
              "#ed7953"
             ],
             [
              0.7777777777777778,
              "#fb9f3a"
             ],
             [
              0.8888888888888888,
              "#fdca26"
             ],
             [
              1,
              "#f0f921"
             ]
            ],
            "type": "heatmap"
           }
          ],
          "heatmapgl": [
           {
            "colorbar": {
             "outlinewidth": 0,
             "ticks": ""
            },
            "colorscale": [
             [
              0,
              "#0d0887"
             ],
             [
              0.1111111111111111,
              "#46039f"
             ],
             [
              0.2222222222222222,
              "#7201a8"
             ],
             [
              0.3333333333333333,
              "#9c179e"
             ],
             [
              0.4444444444444444,
              "#bd3786"
             ],
             [
              0.5555555555555556,
              "#d8576b"
             ],
             [
              0.6666666666666666,
              "#ed7953"
             ],
             [
              0.7777777777777778,
              "#fb9f3a"
             ],
             [
              0.8888888888888888,
              "#fdca26"
             ],
             [
              1,
              "#f0f921"
             ]
            ],
            "type": "heatmapgl"
           }
          ],
          "histogram": [
           {
            "marker": {
             "colorbar": {
              "outlinewidth": 0,
              "ticks": ""
             }
            },
            "type": "histogram"
           }
          ],
          "histogram2d": [
           {
            "colorbar": {
             "outlinewidth": 0,
             "ticks": ""
            },
            "colorscale": [
             [
              0,
              "#0d0887"
             ],
             [
              0.1111111111111111,
              "#46039f"
             ],
             [
              0.2222222222222222,
              "#7201a8"
             ],
             [
              0.3333333333333333,
              "#9c179e"
             ],
             [
              0.4444444444444444,
              "#bd3786"
             ],
             [
              0.5555555555555556,
              "#d8576b"
             ],
             [
              0.6666666666666666,
              "#ed7953"
             ],
             [
              0.7777777777777778,
              "#fb9f3a"
             ],
             [
              0.8888888888888888,
              "#fdca26"
             ],
             [
              1,
              "#f0f921"
             ]
            ],
            "type": "histogram2d"
           }
          ],
          "histogram2dcontour": [
           {
            "colorbar": {
             "outlinewidth": 0,
             "ticks": ""
            },
            "colorscale": [
             [
              0,
              "#0d0887"
             ],
             [
              0.1111111111111111,
              "#46039f"
             ],
             [
              0.2222222222222222,
              "#7201a8"
             ],
             [
              0.3333333333333333,
              "#9c179e"
             ],
             [
              0.4444444444444444,
              "#bd3786"
             ],
             [
              0.5555555555555556,
              "#d8576b"
             ],
             [
              0.6666666666666666,
              "#ed7953"
             ],
             [
              0.7777777777777778,
              "#fb9f3a"
             ],
             [
              0.8888888888888888,
              "#fdca26"
             ],
             [
              1,
              "#f0f921"
             ]
            ],
            "type": "histogram2dcontour"
           }
          ],
          "mesh3d": [
           {
            "colorbar": {
             "outlinewidth": 0,
             "ticks": ""
            },
            "type": "mesh3d"
           }
          ],
          "parcoords": [
           {
            "line": {
             "colorbar": {
              "outlinewidth": 0,
              "ticks": ""
             }
            },
            "type": "parcoords"
           }
          ],
          "pie": [
           {
            "automargin": true,
            "type": "pie"
           }
          ],
          "scatter": [
           {
            "marker": {
             "colorbar": {
              "outlinewidth": 0,
              "ticks": ""
             }
            },
            "type": "scatter"
           }
          ],
          "scatter3d": [
           {
            "line": {
             "colorbar": {
              "outlinewidth": 0,
              "ticks": ""
             }
            },
            "marker": {
             "colorbar": {
              "outlinewidth": 0,
              "ticks": ""
             }
            },
            "type": "scatter3d"
           }
          ],
          "scattercarpet": [
           {
            "marker": {
             "colorbar": {
              "outlinewidth": 0,
              "ticks": ""
             }
            },
            "type": "scattercarpet"
           }
          ],
          "scattergeo": [
           {
            "marker": {
             "colorbar": {
              "outlinewidth": 0,
              "ticks": ""
             }
            },
            "type": "scattergeo"
           }
          ],
          "scattergl": [
           {
            "marker": {
             "colorbar": {
              "outlinewidth": 0,
              "ticks": ""
             }
            },
            "type": "scattergl"
           }
          ],
          "scattermapbox": [
           {
            "marker": {
             "colorbar": {
              "outlinewidth": 0,
              "ticks": ""
             }
            },
            "type": "scattermapbox"
           }
          ],
          "scatterpolar": [
           {
            "marker": {
             "colorbar": {
              "outlinewidth": 0,
              "ticks": ""
             }
            },
            "type": "scatterpolar"
           }
          ],
          "scatterpolargl": [
           {
            "marker": {
             "colorbar": {
              "outlinewidth": 0,
              "ticks": ""
             }
            },
            "type": "scatterpolargl"
           }
          ],
          "scatterternary": [
           {
            "marker": {
             "colorbar": {
              "outlinewidth": 0,
              "ticks": ""
             }
            },
            "type": "scatterternary"
           }
          ],
          "surface": [
           {
            "colorbar": {
             "outlinewidth": 0,
             "ticks": ""
            },
            "colorscale": [
             [
              0,
              "#0d0887"
             ],
             [
              0.1111111111111111,
              "#46039f"
             ],
             [
              0.2222222222222222,
              "#7201a8"
             ],
             [
              0.3333333333333333,
              "#9c179e"
             ],
             [
              0.4444444444444444,
              "#bd3786"
             ],
             [
              0.5555555555555556,
              "#d8576b"
             ],
             [
              0.6666666666666666,
              "#ed7953"
             ],
             [
              0.7777777777777778,
              "#fb9f3a"
             ],
             [
              0.8888888888888888,
              "#fdca26"
             ],
             [
              1,
              "#f0f921"
             ]
            ],
            "type": "surface"
           }
          ],
          "table": [
           {
            "cells": {
             "fill": {
              "color": "#EBF0F8"
             },
             "line": {
              "color": "white"
             }
            },
            "header": {
             "fill": {
              "color": "#C8D4E3"
             },
             "line": {
              "color": "white"
             }
            },
            "type": "table"
           }
          ]
         },
         "layout": {
          "annotationdefaults": {
           "arrowcolor": "#2a3f5f",
           "arrowhead": 0,
           "arrowwidth": 1
          },
          "coloraxis": {
           "colorbar": {
            "outlinewidth": 0,
            "ticks": ""
           }
          },
          "colorscale": {
           "diverging": [
            [
             0,
             "#8e0152"
            ],
            [
             0.1,
             "#c51b7d"
            ],
            [
             0.2,
             "#de77ae"
            ],
            [
             0.3,
             "#f1b6da"
            ],
            [
             0.4,
             "#fde0ef"
            ],
            [
             0.5,
             "#f7f7f7"
            ],
            [
             0.6,
             "#e6f5d0"
            ],
            [
             0.7,
             "#b8e186"
            ],
            [
             0.8,
             "#7fbc41"
            ],
            [
             0.9,
             "#4d9221"
            ],
            [
             1,
             "#276419"
            ]
           ],
           "sequential": [
            [
             0,
             "#0d0887"
            ],
            [
             0.1111111111111111,
             "#46039f"
            ],
            [
             0.2222222222222222,
             "#7201a8"
            ],
            [
             0.3333333333333333,
             "#9c179e"
            ],
            [
             0.4444444444444444,
             "#bd3786"
            ],
            [
             0.5555555555555556,
             "#d8576b"
            ],
            [
             0.6666666666666666,
             "#ed7953"
            ],
            [
             0.7777777777777778,
             "#fb9f3a"
            ],
            [
             0.8888888888888888,
             "#fdca26"
            ],
            [
             1,
             "#f0f921"
            ]
           ],
           "sequentialminus": [
            [
             0,
             "#0d0887"
            ],
            [
             0.1111111111111111,
             "#46039f"
            ],
            [
             0.2222222222222222,
             "#7201a8"
            ],
            [
             0.3333333333333333,
             "#9c179e"
            ],
            [
             0.4444444444444444,
             "#bd3786"
            ],
            [
             0.5555555555555556,
             "#d8576b"
            ],
            [
             0.6666666666666666,
             "#ed7953"
            ],
            [
             0.7777777777777778,
             "#fb9f3a"
            ],
            [
             0.8888888888888888,
             "#fdca26"
            ],
            [
             1,
             "#f0f921"
            ]
           ]
          },
          "colorway": [
           "#636efa",
           "#EF553B",
           "#00cc96",
           "#ab63fa",
           "#FFA15A",
           "#19d3f3",
           "#FF6692",
           "#B6E880",
           "#FF97FF",
           "#FECB52"
          ],
          "font": {
           "color": "#2a3f5f"
          },
          "geo": {
           "bgcolor": "white",
           "lakecolor": "white",
           "landcolor": "#E5ECF6",
           "showlakes": true,
           "showland": true,
           "subunitcolor": "white"
          },
          "hoverlabel": {
           "align": "left"
          },
          "hovermode": "closest",
          "mapbox": {
           "style": "light"
          },
          "paper_bgcolor": "white",
          "plot_bgcolor": "#E5ECF6",
          "polar": {
           "angularaxis": {
            "gridcolor": "white",
            "linecolor": "white",
            "ticks": ""
           },
           "bgcolor": "#E5ECF6",
           "radialaxis": {
            "gridcolor": "white",
            "linecolor": "white",
            "ticks": ""
           }
          },
          "scene": {
           "xaxis": {
            "backgroundcolor": "#E5ECF6",
            "gridcolor": "white",
            "gridwidth": 2,
            "linecolor": "white",
            "showbackground": true,
            "ticks": "",
            "zerolinecolor": "white"
           },
           "yaxis": {
            "backgroundcolor": "#E5ECF6",
            "gridcolor": "white",
            "gridwidth": 2,
            "linecolor": "white",
            "showbackground": true,
            "ticks": "",
            "zerolinecolor": "white"
           },
           "zaxis": {
            "backgroundcolor": "#E5ECF6",
            "gridcolor": "white",
            "gridwidth": 2,
            "linecolor": "white",
            "showbackground": true,
            "ticks": "",
            "zerolinecolor": "white"
           }
          },
          "shapedefaults": {
           "line": {
            "color": "#2a3f5f"
           }
          },
          "ternary": {
           "aaxis": {
            "gridcolor": "white",
            "linecolor": "white",
            "ticks": ""
           },
           "baxis": {
            "gridcolor": "white",
            "linecolor": "white",
            "ticks": ""
           },
           "bgcolor": "#E5ECF6",
           "caxis": {
            "gridcolor": "white",
            "linecolor": "white",
            "ticks": ""
           }
          },
          "title": {
           "x": 0.05
          },
          "xaxis": {
           "automargin": true,
           "gridcolor": "white",
           "linecolor": "white",
           "ticks": "",
           "title": {
            "standoff": 15
           },
           "zerolinecolor": "white",
           "zerolinewidth": 2
          },
          "yaxis": {
           "automargin": true,
           "gridcolor": "white",
           "linecolor": "white",
           "ticks": "",
           "title": {
            "standoff": 15
           },
           "zerolinecolor": "white",
           "zerolinewidth": 2
          }
         }
        },
        "title": {
         "text": ""
        },
        "xaxis": {
         "rangeselector": {
          "buttons": [
           {
            "count": 7,
            "label": "1w",
            "step": "day",
            "stepmode": "backward"
           },
           {
            "count": 1,
            "label": "1m",
            "step": "month",
            "stepmode": "backward"
           },
           {
            "count": 6,
            "label": "6m",
            "step": "month",
            "stepmode": "backward"
           },
           {
            "count": 1,
            "label": "YTD",
            "step": "year",
            "stepmode": "todate"
           },
           {
            "count": 1,
            "label": "1y",
            "step": "year",
            "stepmode": "backward"
           },
           {
            "step": "all"
           }
          ]
         },
         "showgrid": false,
         "title": {
          "text": "Time"
         },
         "type": "date",
         "zeroline": false
        },
        "yaxis": {
         "autorange": false,
         "range": [
          -1,
          6
         ],
         "showgrid": false,
         "showticklabels": false,
         "ticktext": [
          "Task ID: 4, app: slow_double",
          "Task ID: 3, app: slow_double",
          "Task ID: 2, app: slow_double",
          "Task ID: 1, app: slow_double",
          "Task ID: 0, app: slow_double"
         ],
         "tickvals": [
          0,
          1,
          2,
          3,
          4
         ],
         "title": {
          "text": "Task"
         },
         "zeroline": false
        }
       }
      },
      "text/html": [
       "<div>\n",
       "        \n",
       "        \n",
       "            <div id=\"3eb5bdfd-cd34-4ed1-9433-9aee3399ae28\" class=\"plotly-graph-div\" style=\"height:600px; width:100%;\"></div>\n",
       "            <script type=\"text/javascript\">\n",
       "                require([\"plotly\"], function(Plotly) {\n",
       "                    window.PLOTLYENV=window.PLOTLYENV || {};\n",
       "                    \n",
       "                if (document.getElementById(\"3eb5bdfd-cd34-4ed1-9433-9aee3399ae28\")) {\n",
       "                    Plotly.newPlot(\n",
       "                        '3eb5bdfd-cd34-4ed1-9433-9aee3399ae28',\n",
       "                        [{\"fill\": \"toself\", \"fillcolor\": \"rgb(0, 0, 255)\", \"hoverinfo\": \"name\", \"legendgroup\": \"rgb(0, 0, 255)\", \"mode\": \"none\", \"name\": \"Running\", \"type\": \"scatter\", \"x\": [\"2020-06-10 19:59:08.299433\", \"2020-06-10 19:59:09.431409\", \"2020-06-10 19:59:09.431409\", \"2020-06-10 19:59:08.299433\", \"2020-06-10 19:59:08.299433\", \"2020-06-10 19:59:08.300886\", \"2020-06-10 19:59:16.631662\", \"2020-06-10 19:59:16.631662\", \"2020-06-10 19:59:08.300886\", \"2020-06-10 19:59:08.300886\", \"2020-06-10 19:59:09.567300\", \"2020-06-10 19:59:22.940389\", \"2020-06-10 19:59:22.940389\", \"2020-06-10 19:59:09.567300\", \"2020-06-10 19:59:09.567300\", \"2020-06-10 19:59:19.795906\", \"2020-06-10 19:59:33.318549\", \"2020-06-10 19:59:33.318549\", \"2020-06-10 19:59:19.795906\", \"2020-06-10 19:59:19.795906\", \"2020-06-10 19:59:24.916085\", \"2020-06-10 19:59:35.394998\", \"2020-06-10 19:59:35.394998\", \"2020-06-10 19:59:24.916085\"], \"y\": [3.8, 3.8, 4.2, 4.2, null, 2.8, 2.8, 3.2, 3.2, null, 1.8, 1.8, 2.2, 2.2, null, 0.8, 0.8, 1.2, 1.2, null, -0.2, -0.2, 0.2, 0.2]}, {\"fill\": \"toself\", \"fillcolor\": \"rgb(168, 168, 168)\", \"hoverinfo\": \"name\", \"legendgroup\": \"rgb(168, 168, 168)\", \"mode\": \"none\", \"name\": \"Pending\", \"type\": \"scatter\", \"x\": [\"2020-06-10 19:59:07.541152\", \"2020-06-10 19:59:08.299433\", \"2020-06-10 19:59:08.299433\", \"2020-06-10 19:59:07.541152\", \"2020-06-10 19:59:07.541152\", \"2020-06-10 19:59:07.692679\", \"2020-06-10 19:59:08.300886\", \"2020-06-10 19:59:08.300886\", \"2020-06-10 19:59:07.692679\", \"2020-06-10 19:59:07.692679\", \"2020-06-10 19:59:07.697526\", \"2020-06-10 19:59:09.567300\", \"2020-06-10 19:59:09.567300\", \"2020-06-10 19:59:07.697526\", \"2020-06-10 19:59:07.697526\", \"2020-06-10 19:59:07.701133\", \"2020-06-10 19:59:19.795906\", \"2020-06-10 19:59:19.795906\", \"2020-06-10 19:59:07.701133\", \"2020-06-10 19:59:07.701133\", \"2020-06-10 19:59:07.704660\", \"2020-06-10 19:59:24.916085\", \"2020-06-10 19:59:24.916085\", \"2020-06-10 19:59:07.704660\"], \"y\": [3.8, 3.8, 4.2, 4.2, null, 2.8, 2.8, 3.2, 3.2, null, 1.8, 1.8, 2.2, 2.2, null, 0.8, 0.8, 1.2, 1.2, null, -0.2, -0.2, 0.2, 0.2]}, {\"legendgroup\": \"rgb(0, 0, 255)\", \"marker\": {\"color\": \"rgb(0, 0, 255)\", \"opacity\": 0, \"size\": 1}, \"mode\": \"markers\", \"name\": \"\", \"showlegend\": false, \"text\": [null, null, null, null, null, null, null, null, null, null], \"type\": \"scatter\", \"x\": [\"2020-06-10 19:59:08.299433\", \"2020-06-10 19:59:09.431409\", \"2020-06-10 19:59:08.300886\", \"2020-06-10 19:59:16.631662\", \"2020-06-10 19:59:09.567300\", \"2020-06-10 19:59:22.940389\", \"2020-06-10 19:59:19.795906\", \"2020-06-10 19:59:33.318549\", \"2020-06-10 19:59:24.916085\", \"2020-06-10 19:59:35.394998\"], \"y\": [4, 4, 3, 3, 2, 2, 1, 1, 0, 0]}, {\"legendgroup\": \"rgb(168, 168, 168)\", \"marker\": {\"color\": \"rgb(168, 168, 168)\", \"opacity\": 0, \"size\": 1}, \"mode\": \"markers\", \"name\": \"\", \"showlegend\": false, \"text\": [null, null, null, null, null, null, null, null, null, null], \"type\": \"scatter\", \"x\": [\"2020-06-10 19:59:07.541152\", \"2020-06-10 19:59:08.299433\", \"2020-06-10 19:59:07.692679\", \"2020-06-10 19:59:08.300886\", \"2020-06-10 19:59:07.697526\", \"2020-06-10 19:59:09.567300\", \"2020-06-10 19:59:07.701133\", \"2020-06-10 19:59:19.795906\", \"2020-06-10 19:59:07.704660\", \"2020-06-10 19:59:24.916085\"], \"y\": [4, 4, 3, 3, 2, 2, 1, 1, 0, 0]}],\n",
       "                        {\"height\": 600, \"hovermode\": \"closest\", \"showlegend\": true, \"template\": {\"data\": {\"bar\": [{\"error_x\": {\"color\": \"#2a3f5f\"}, \"error_y\": {\"color\": \"#2a3f5f\"}, \"marker\": {\"line\": {\"color\": \"#E5ECF6\", \"width\": 0.5}}, \"type\": \"bar\"}], \"barpolar\": [{\"marker\": {\"line\": {\"color\": \"#E5ECF6\", \"width\": 0.5}}, \"type\": \"barpolar\"}], \"carpet\": [{\"aaxis\": {\"endlinecolor\": \"#2a3f5f\", \"gridcolor\": \"white\", \"linecolor\": \"white\", \"minorgridcolor\": \"white\", \"startlinecolor\": \"#2a3f5f\"}, \"baxis\": {\"endlinecolor\": \"#2a3f5f\", \"gridcolor\": \"white\", \"linecolor\": \"white\", \"minorgridcolor\": \"white\", \"startlinecolor\": \"#2a3f5f\"}, \"type\": \"carpet\"}], \"choropleth\": [{\"colorbar\": {\"outlinewidth\": 0, \"ticks\": \"\"}, \"type\": \"choropleth\"}], \"contour\": [{\"colorbar\": {\"outlinewidth\": 0, \"ticks\": \"\"}, \"colorscale\": [[0.0, \"#0d0887\"], [0.1111111111111111, \"#46039f\"], [0.2222222222222222, \"#7201a8\"], [0.3333333333333333, \"#9c179e\"], [0.4444444444444444, \"#bd3786\"], [0.5555555555555556, \"#d8576b\"], [0.6666666666666666, \"#ed7953\"], [0.7777777777777778, \"#fb9f3a\"], [0.8888888888888888, \"#fdca26\"], [1.0, \"#f0f921\"]], \"type\": \"contour\"}], \"contourcarpet\": [{\"colorbar\": {\"outlinewidth\": 0, \"ticks\": \"\"}, \"type\": \"contourcarpet\"}], \"heatmap\": [{\"colorbar\": {\"outlinewidth\": 0, \"ticks\": \"\"}, \"colorscale\": [[0.0, \"#0d0887\"], [0.1111111111111111, \"#46039f\"], [0.2222222222222222, \"#7201a8\"], [0.3333333333333333, \"#9c179e\"], [0.4444444444444444, \"#bd3786\"], [0.5555555555555556, \"#d8576b\"], [0.6666666666666666, \"#ed7953\"], [0.7777777777777778, \"#fb9f3a\"], [0.8888888888888888, \"#fdca26\"], [1.0, \"#f0f921\"]], \"type\": \"heatmap\"}], \"heatmapgl\": [{\"colorbar\": {\"outlinewidth\": 0, \"ticks\": \"\"}, \"colorscale\": [[0.0, \"#0d0887\"], [0.1111111111111111, \"#46039f\"], [0.2222222222222222, \"#7201a8\"], [0.3333333333333333, \"#9c179e\"], [0.4444444444444444, \"#bd3786\"], [0.5555555555555556, \"#d8576b\"], [0.6666666666666666, \"#ed7953\"], [0.7777777777777778, \"#fb9f3a\"], [0.8888888888888888, \"#fdca26\"], [1.0, \"#f0f921\"]], \"type\": \"heatmapgl\"}], \"histogram\": [{\"marker\": {\"colorbar\": {\"outlinewidth\": 0, \"ticks\": \"\"}}, \"type\": \"histogram\"}], \"histogram2d\": [{\"colorbar\": {\"outlinewidth\": 0, \"ticks\": \"\"}, \"colorscale\": [[0.0, \"#0d0887\"], [0.1111111111111111, \"#46039f\"], [0.2222222222222222, \"#7201a8\"], [0.3333333333333333, \"#9c179e\"], [0.4444444444444444, \"#bd3786\"], [0.5555555555555556, \"#d8576b\"], [0.6666666666666666, \"#ed7953\"], [0.7777777777777778, \"#fb9f3a\"], [0.8888888888888888, \"#fdca26\"], [1.0, \"#f0f921\"]], \"type\": \"histogram2d\"}], \"histogram2dcontour\": [{\"colorbar\": {\"outlinewidth\": 0, \"ticks\": \"\"}, \"colorscale\": [[0.0, \"#0d0887\"], [0.1111111111111111, \"#46039f\"], [0.2222222222222222, \"#7201a8\"], [0.3333333333333333, \"#9c179e\"], [0.4444444444444444, \"#bd3786\"], [0.5555555555555556, \"#d8576b\"], [0.6666666666666666, \"#ed7953\"], [0.7777777777777778, \"#fb9f3a\"], [0.8888888888888888, \"#fdca26\"], [1.0, \"#f0f921\"]], \"type\": \"histogram2dcontour\"}], \"mesh3d\": [{\"colorbar\": {\"outlinewidth\": 0, \"ticks\": \"\"}, \"type\": \"mesh3d\"}], \"parcoords\": [{\"line\": {\"colorbar\": {\"outlinewidth\": 0, \"ticks\": \"\"}}, \"type\": \"parcoords\"}], \"pie\": [{\"automargin\": true, \"type\": \"pie\"}], \"scatter\": [{\"marker\": {\"colorbar\": {\"outlinewidth\": 0, \"ticks\": \"\"}}, \"type\": \"scatter\"}], \"scatter3d\": [{\"line\": {\"colorbar\": {\"outlinewidth\": 0, \"ticks\": \"\"}}, \"marker\": {\"colorbar\": {\"outlinewidth\": 0, \"ticks\": \"\"}}, \"type\": \"scatter3d\"}], \"scattercarpet\": [{\"marker\": {\"colorbar\": {\"outlinewidth\": 0, \"ticks\": \"\"}}, \"type\": \"scattercarpet\"}], \"scattergeo\": [{\"marker\": {\"colorbar\": {\"outlinewidth\": 0, \"ticks\": \"\"}}, \"type\": \"scattergeo\"}], \"scattergl\": [{\"marker\": {\"colorbar\": {\"outlinewidth\": 0, \"ticks\": \"\"}}, \"type\": \"scattergl\"}], \"scattermapbox\": [{\"marker\": {\"colorbar\": {\"outlinewidth\": 0, \"ticks\": \"\"}}, \"type\": \"scattermapbox\"}], \"scatterpolar\": [{\"marker\": {\"colorbar\": {\"outlinewidth\": 0, \"ticks\": \"\"}}, \"type\": \"scatterpolar\"}], \"scatterpolargl\": [{\"marker\": {\"colorbar\": {\"outlinewidth\": 0, \"ticks\": \"\"}}, \"type\": \"scatterpolargl\"}], \"scatterternary\": [{\"marker\": {\"colorbar\": {\"outlinewidth\": 0, \"ticks\": \"\"}}, \"type\": \"scatterternary\"}], \"surface\": [{\"colorbar\": {\"outlinewidth\": 0, \"ticks\": \"\"}, \"colorscale\": [[0.0, \"#0d0887\"], [0.1111111111111111, \"#46039f\"], [0.2222222222222222, \"#7201a8\"], [0.3333333333333333, \"#9c179e\"], [0.4444444444444444, \"#bd3786\"], [0.5555555555555556, \"#d8576b\"], [0.6666666666666666, \"#ed7953\"], [0.7777777777777778, \"#fb9f3a\"], [0.8888888888888888, \"#fdca26\"], [1.0, \"#f0f921\"]], \"type\": \"surface\"}], \"table\": [{\"cells\": {\"fill\": {\"color\": \"#EBF0F8\"}, \"line\": {\"color\": \"white\"}}, \"header\": {\"fill\": {\"color\": \"#C8D4E3\"}, \"line\": {\"color\": \"white\"}}, \"type\": \"table\"}]}, \"layout\": {\"annotationdefaults\": {\"arrowcolor\": \"#2a3f5f\", \"arrowhead\": 0, \"arrowwidth\": 1}, \"coloraxis\": {\"colorbar\": {\"outlinewidth\": 0, \"ticks\": \"\"}}, \"colorscale\": {\"diverging\": [[0, \"#8e0152\"], [0.1, \"#c51b7d\"], [0.2, \"#de77ae\"], [0.3, \"#f1b6da\"], [0.4, \"#fde0ef\"], [0.5, \"#f7f7f7\"], [0.6, \"#e6f5d0\"], [0.7, \"#b8e186\"], [0.8, \"#7fbc41\"], [0.9, \"#4d9221\"], [1, \"#276419\"]], \"sequential\": [[0.0, \"#0d0887\"], [0.1111111111111111, \"#46039f\"], [0.2222222222222222, \"#7201a8\"], [0.3333333333333333, \"#9c179e\"], [0.4444444444444444, \"#bd3786\"], [0.5555555555555556, \"#d8576b\"], [0.6666666666666666, \"#ed7953\"], [0.7777777777777778, \"#fb9f3a\"], [0.8888888888888888, \"#fdca26\"], [1.0, \"#f0f921\"]], \"sequentialminus\": [[0.0, \"#0d0887\"], [0.1111111111111111, \"#46039f\"], [0.2222222222222222, \"#7201a8\"], [0.3333333333333333, \"#9c179e\"], [0.4444444444444444, \"#bd3786\"], [0.5555555555555556, \"#d8576b\"], [0.6666666666666666, \"#ed7953\"], [0.7777777777777778, \"#fb9f3a\"], [0.8888888888888888, \"#fdca26\"], [1.0, \"#f0f921\"]]}, \"colorway\": [\"#636efa\", \"#EF553B\", \"#00cc96\", \"#ab63fa\", \"#FFA15A\", \"#19d3f3\", \"#FF6692\", \"#B6E880\", \"#FF97FF\", \"#FECB52\"], \"font\": {\"color\": \"#2a3f5f\"}, \"geo\": {\"bgcolor\": \"white\", \"lakecolor\": \"white\", \"landcolor\": \"#E5ECF6\", \"showlakes\": true, \"showland\": true, \"subunitcolor\": \"white\"}, \"hoverlabel\": {\"align\": \"left\"}, \"hovermode\": \"closest\", \"mapbox\": {\"style\": \"light\"}, \"paper_bgcolor\": \"white\", \"plot_bgcolor\": \"#E5ECF6\", \"polar\": {\"angularaxis\": {\"gridcolor\": \"white\", \"linecolor\": \"white\", \"ticks\": \"\"}, \"bgcolor\": \"#E5ECF6\", \"radialaxis\": {\"gridcolor\": \"white\", \"linecolor\": \"white\", \"ticks\": \"\"}}, \"scene\": {\"xaxis\": {\"backgroundcolor\": \"#E5ECF6\", \"gridcolor\": \"white\", \"gridwidth\": 2, \"linecolor\": \"white\", \"showbackground\": true, \"ticks\": \"\", \"zerolinecolor\": \"white\"}, \"yaxis\": {\"backgroundcolor\": \"#E5ECF6\", \"gridcolor\": \"white\", \"gridwidth\": 2, \"linecolor\": \"white\", \"showbackground\": true, \"ticks\": \"\", \"zerolinecolor\": \"white\"}, \"zaxis\": {\"backgroundcolor\": \"#E5ECF6\", \"gridcolor\": \"white\", \"gridwidth\": 2, \"linecolor\": \"white\", \"showbackground\": true, \"ticks\": \"\", \"zerolinecolor\": \"white\"}}, \"shapedefaults\": {\"line\": {\"color\": \"#2a3f5f\"}}, \"ternary\": {\"aaxis\": {\"gridcolor\": \"white\", \"linecolor\": \"white\", \"ticks\": \"\"}, \"baxis\": {\"gridcolor\": \"white\", \"linecolor\": \"white\", \"ticks\": \"\"}, \"bgcolor\": \"#E5ECF6\", \"caxis\": {\"gridcolor\": \"white\", \"linecolor\": \"white\", \"ticks\": \"\"}}, \"title\": {\"x\": 0.05}, \"xaxis\": {\"automargin\": true, \"gridcolor\": \"white\", \"linecolor\": \"white\", \"ticks\": \"\", \"title\": {\"standoff\": 15}, \"zerolinecolor\": \"white\", \"zerolinewidth\": 2}, \"yaxis\": {\"automargin\": true, \"gridcolor\": \"white\", \"linecolor\": \"white\", \"ticks\": \"\", \"title\": {\"standoff\": 15}, \"zerolinecolor\": \"white\", \"zerolinewidth\": 2}}}, \"title\": {\"text\": \"\"}, \"xaxis\": {\"rangeselector\": {\"buttons\": [{\"count\": 7, \"label\": \"1w\", \"step\": \"day\", \"stepmode\": \"backward\"}, {\"count\": 1, \"label\": \"1m\", \"step\": \"month\", \"stepmode\": \"backward\"}, {\"count\": 6, \"label\": \"6m\", \"step\": \"month\", \"stepmode\": \"backward\"}, {\"count\": 1, \"label\": \"YTD\", \"step\": \"year\", \"stepmode\": \"todate\"}, {\"count\": 1, \"label\": \"1y\", \"step\": \"year\", \"stepmode\": \"backward\"}, {\"step\": \"all\"}]}, \"showgrid\": false, \"title\": {\"text\": \"Time\"}, \"type\": \"date\", \"zeroline\": false}, \"yaxis\": {\"autorange\": false, \"range\": [-1, 6], \"showgrid\": false, \"showticklabels\": false, \"ticktext\": [\"Task ID: 4, app: slow_double\", \"Task ID: 3, app: slow_double\", \"Task ID: 2, app: slow_double\", \"Task ID: 1, app: slow_double\", \"Task ID: 0, app: slow_double\"], \"tickvals\": [0, 1, 2, 3, 4], \"title\": {\"text\": \"Task\"}, \"zeroline\": false}},\n",
       "                        {\"responsive\": true}\n",
       "                    ).then(function(){\n",
       "                            \n",
       "var gd = document.getElementById('3eb5bdfd-cd34-4ed1-9433-9aee3399ae28');\n",
       "var x = new MutationObserver(function (mutations, observer) {{\n",
       "        var display = window.getComputedStyle(gd).display;\n",
       "        if (!display || display === 'none') {{\n",
       "            console.log([gd, 'removed!']);\n",
       "            Plotly.purge(gd);\n",
       "            observer.disconnect();\n",
       "        }}\n",
       "}});\n",
       "\n",
       "// Listen for the removal of the full notebook cells\n",
       "var notebookContainer = gd.closest('#notebook-container');\n",
       "if (notebookContainer) {{\n",
       "    x.observe(notebookContainer, {childList: true});\n",
       "}}\n",
       "\n",
       "// Listen for the clearing of the current output cell\n",
       "var outputEl = gd.closest('.output');\n",
       "if (outputEl) {{\n",
       "    x.observe(outputEl, {childList: true});\n",
       "}}\n",
       "\n",
       "                        })\n",
       "                };\n",
       "                });\n",
       "            </script>\n",
       "        </div>"
      ]
     },
     "metadata": {},
     "output_type": "display_data"
    }
   ],
   "source": [
    "import plotly.figure_factory as ff\n",
    "import plotly.graph_objs as go\n",
    "\n",
    "parsl_tasks = []\n",
    "for i, task in df_task.iterrows():\n",
    "    time_running, time_returned = task['task_time_running'], task['task_time_returned']\n",
    "    if task['task_time_returned'] is None:\n",
    "        time_returned = datetime.datetime.now()\n",
    "        if time_completed is not None:\n",
    "            time_returned = time_completed\n",
    "    if task['task_time_running'] is None:\n",
    "        time_running = task['task_time_submitted']\n",
    "    description = \"Task ID: {}, app: {}\".format(task['task_id'], task['task_func_name'])\n",
    "    dic1 = dict(Task=description, Start=task['task_time_submitted'],\n",
    "                Finish=time_running, Resource=\"Pending\")\n",
    "    dic2 = dict(Task=description, Start=time_running,\n",
    "                Finish=time_returned, Resource=\"Running\")\n",
    "    parsl_tasks.extend([dic1, dic2])\n",
    "colors = {'Pending': 'rgb(168, 168, 168)', 'Running': 'rgb(0, 0, 255)'}\n",
    "fig = ff.create_gantt(parsl_tasks, title=\"\", colors=colors, group_tasks=True, show_colorbar=True, index_col='Resource')\n",
    "fig['layout']['yaxis']['title'] = 'Task'\n",
    "fig['layout']['yaxis']['showticklabels'] = False\n",
    "fig['layout']['xaxis']['title'] = 'Time'\n",
    "\n",
    "fig.show()"
   ]
  },
  {
   "cell_type": "markdown",
   "metadata": {},
   "source": [
    "Here we show side-by-side plots of CPU and memory utilization over time. "
   ]
  },
  {
   "cell_type": "code",
   "execution_count": 8,
   "metadata": {},
   "outputs": [
    {
     "data": {
      "application/vnd.plotly.v1+json": {
       "config": {
        "plotlyServerURL": "https://plot.ly"
       },
       "data": [
        {
         "type": "scatter",
         "x": [
          "2020-06-10 19:59:08.299433",
          "2020-06-10 19:59:08.300886",
          "2020-06-10 19:59:09.329773",
          "2020-06-10 19:59:09.331568",
          "2020-06-10 19:59:09.567300",
          "2020-06-10 19:59:10.358324",
          "2020-06-10 19:59:10.594959",
          "2020-06-10 19:59:11.380334",
          "2020-06-10 19:59:11.636826",
          "2020-06-10 19:59:12.416775",
          "2020-06-10 19:59:12.659252",
          "2020-06-10 19:59:13.466099",
          "2020-06-10 19:59:13.682142",
          "2020-06-10 19:59:14.509228",
          "2020-06-10 19:59:14.705150",
          "2020-06-10 19:59:15.529186",
          "2020-06-10 19:59:15.728653",
          "2020-06-10 19:59:16.554108",
          "2020-06-10 19:59:16.752914",
          "2020-06-10 19:59:17.777485",
          "2020-06-10 19:59:18.829037",
          "2020-06-10 19:59:19.795906",
          "2020-06-10 19:59:19.852083",
          "2020-06-10 19:59:20.846505",
          "2020-06-10 19:59:20.874929",
          "2020-06-10 19:59:21.870924",
          "2020-06-10 19:59:21.898276",
          "2020-06-10 19:59:22.907031",
          "2020-06-10 19:59:22.923557",
          "2020-06-10 19:59:23.941936",
          "2020-06-10 19:59:24.916085",
          "2020-06-10 19:59:24.968603",
          "2020-06-10 19:59:25.949310",
          "2020-06-10 19:59:25.990455",
          "2020-06-10 19:59:27.032620",
          "2020-06-10 19:59:27.064473",
          "2020-06-10 19:59:28.107000",
          "2020-06-10 19:59:28.123365",
          "2020-06-10 19:59:29.133380",
          "2020-06-10 19:59:29.154792",
          "2020-06-10 19:59:30.177189",
          "2020-06-10 19:59:30.213648",
          "2020-06-10 19:59:31.203636",
          "2020-06-10 19:59:31.244702",
          "2020-06-10 19:59:32.226459",
          "2020-06-10 19:59:32.270104",
          "2020-06-10 19:59:33.255388",
          "2020-06-10 19:59:33.298121",
          "2020-06-10 19:59:34.311973",
          "2020-06-10 19:59:35.378767"
         ],
         "xaxis": "x",
         "y": [
          0,
          0,
          0,
          0,
          0,
          0,
          0,
          0,
          0,
          0,
          0,
          0,
          0,
          0,
          0,
          0,
          0,
          0,
          0,
          0,
          0,
          0,
          0,
          0,
          0,
          0,
          0,
          0,
          0,
          0,
          0,
          0,
          0,
          0,
          0,
          0,
          0,
          0,
          0,
          0,
          0,
          0,
          0,
          0,
          0,
          0,
          0,
          1,
          0,
          0
         ],
         "yaxis": "y"
        },
        {
         "type": "scatter",
         "x": [
          "2020-06-10 19:59:08.299433",
          "2020-06-10 19:59:08.300886",
          "2020-06-10 19:59:09.329773",
          "2020-06-10 19:59:09.331568",
          "2020-06-10 19:59:09.567300",
          "2020-06-10 19:59:10.358324",
          "2020-06-10 19:59:10.594959",
          "2020-06-10 19:59:11.380334",
          "2020-06-10 19:59:11.636826",
          "2020-06-10 19:59:12.416775",
          "2020-06-10 19:59:12.659252",
          "2020-06-10 19:59:13.466099",
          "2020-06-10 19:59:13.682142",
          "2020-06-10 19:59:14.509228",
          "2020-06-10 19:59:14.705150",
          "2020-06-10 19:59:15.529186",
          "2020-06-10 19:59:15.728653",
          "2020-06-10 19:59:16.554108",
          "2020-06-10 19:59:16.752914",
          "2020-06-10 19:59:17.777485",
          "2020-06-10 19:59:18.829037",
          "2020-06-10 19:59:19.795906",
          "2020-06-10 19:59:19.852083",
          "2020-06-10 19:59:20.846505",
          "2020-06-10 19:59:20.874929",
          "2020-06-10 19:59:21.870924",
          "2020-06-10 19:59:21.898276",
          "2020-06-10 19:59:22.907031",
          "2020-06-10 19:59:22.923557",
          "2020-06-10 19:59:23.941936",
          "2020-06-10 19:59:24.916085",
          "2020-06-10 19:59:24.968603",
          "2020-06-10 19:59:25.949310",
          "2020-06-10 19:59:25.990455",
          "2020-06-10 19:59:27.032620",
          "2020-06-10 19:59:27.064473",
          "2020-06-10 19:59:28.107000",
          "2020-06-10 19:59:28.123365",
          "2020-06-10 19:59:29.133380",
          "2020-06-10 19:59:29.154792",
          "2020-06-10 19:59:30.177189",
          "2020-06-10 19:59:30.213648",
          "2020-06-10 19:59:31.203636",
          "2020-06-10 19:59:31.244702",
          "2020-06-10 19:59:32.226459",
          "2020-06-10 19:59:32.270104",
          "2020-06-10 19:59:33.255388",
          "2020-06-10 19:59:33.298121",
          "2020-06-10 19:59:34.311973",
          "2020-06-10 19:59:35.378767"
         ],
         "xaxis": "x2",
         "y": [
          6.833328751467834,
          6.832739654474977,
          6.840790646710679,
          6.839219721396395,
          7.775687574373496,
          6.839219721396395,
          7.799055088423458,
          6.839219721396395,
          7.811622490937725,
          6.839219721396395,
          7.811622490937725,
          6.839219721396395,
          7.811622490937725,
          6.839219721396395,
          7.82418989345199,
          6.839219721396395,
          7.82418989345199,
          6.840201549717823,
          7.82418989345199,
          7.82418989345199,
          7.82418989345199,
          7.776080305702066,
          7.82418989345199,
          7.799251454087743,
          7.82418989345199,
          7.81181885660201,
          7.82418989345199,
          7.81181885660201,
          7.8253680874377025,
          7.824386259116276,
          7.777258499687779,
          7.824386259116276,
          7.800626013737742,
          7.824386259116276,
          7.813193416252007,
          7.824386259116276,
          7.813193416252007,
          7.824386259116276,
          7.825760818766273,
          7.824386259116276,
          7.825760818766273,
          7.824386259116276,
          7.825760818766273,
          7.824386259116276,
          7.825760818766273,
          7.824386259116276,
          7.825760818766273,
          7.82556445310199,
          7.825760818766273,
          7.826153550094844
         ],
         "yaxis": "y2"
        }
       ],
       "layout": {
        "annotations": [
         {
          "font": {
           "size": 16
          },
          "showarrow": false,
          "text": "CPU",
          "x": 0.225,
          "xanchor": "center",
          "xref": "paper",
          "y": 1,
          "yanchor": "bottom",
          "yref": "paper"
         },
         {
          "font": {
           "size": 16
          },
          "showarrow": false,
          "text": "Memory",
          "x": 0.775,
          "xanchor": "center",
          "xref": "paper",
          "y": 1,
          "yanchor": "bottom",
          "yref": "paper"
         }
        ],
        "height": 600,
        "showlegend": false,
        "template": {
         "data": {
          "bar": [
           {
            "error_x": {
             "color": "#2a3f5f"
            },
            "error_y": {
             "color": "#2a3f5f"
            },
            "marker": {
             "line": {
              "color": "#E5ECF6",
              "width": 0.5
             }
            },
            "type": "bar"
           }
          ],
          "barpolar": [
           {
            "marker": {
             "line": {
              "color": "#E5ECF6",
              "width": 0.5
             }
            },
            "type": "barpolar"
           }
          ],
          "carpet": [
           {
            "aaxis": {
             "endlinecolor": "#2a3f5f",
             "gridcolor": "white",
             "linecolor": "white",
             "minorgridcolor": "white",
             "startlinecolor": "#2a3f5f"
            },
            "baxis": {
             "endlinecolor": "#2a3f5f",
             "gridcolor": "white",
             "linecolor": "white",
             "minorgridcolor": "white",
             "startlinecolor": "#2a3f5f"
            },
            "type": "carpet"
           }
          ],
          "choropleth": [
           {
            "colorbar": {
             "outlinewidth": 0,
             "ticks": ""
            },
            "type": "choropleth"
           }
          ],
          "contour": [
           {
            "colorbar": {
             "outlinewidth": 0,
             "ticks": ""
            },
            "colorscale": [
             [
              0,
              "#0d0887"
             ],
             [
              0.1111111111111111,
              "#46039f"
             ],
             [
              0.2222222222222222,
              "#7201a8"
             ],
             [
              0.3333333333333333,
              "#9c179e"
             ],
             [
              0.4444444444444444,
              "#bd3786"
             ],
             [
              0.5555555555555556,
              "#d8576b"
             ],
             [
              0.6666666666666666,
              "#ed7953"
             ],
             [
              0.7777777777777778,
              "#fb9f3a"
             ],
             [
              0.8888888888888888,
              "#fdca26"
             ],
             [
              1,
              "#f0f921"
             ]
            ],
            "type": "contour"
           }
          ],
          "contourcarpet": [
           {
            "colorbar": {
             "outlinewidth": 0,
             "ticks": ""
            },
            "type": "contourcarpet"
           }
          ],
          "heatmap": [
           {
            "colorbar": {
             "outlinewidth": 0,
             "ticks": ""
            },
            "colorscale": [
             [
              0,
              "#0d0887"
             ],
             [
              0.1111111111111111,
              "#46039f"
             ],
             [
              0.2222222222222222,
              "#7201a8"
             ],
             [
              0.3333333333333333,
              "#9c179e"
             ],
             [
              0.4444444444444444,
              "#bd3786"
             ],
             [
              0.5555555555555556,
              "#d8576b"
             ],
             [
              0.6666666666666666,
              "#ed7953"
             ],
             [
              0.7777777777777778,
              "#fb9f3a"
             ],
             [
              0.8888888888888888,
              "#fdca26"
             ],
             [
              1,
              "#f0f921"
             ]
            ],
            "type": "heatmap"
           }
          ],
          "heatmapgl": [
           {
            "colorbar": {
             "outlinewidth": 0,
             "ticks": ""
            },
            "colorscale": [
             [
              0,
              "#0d0887"
             ],
             [
              0.1111111111111111,
              "#46039f"
             ],
             [
              0.2222222222222222,
              "#7201a8"
             ],
             [
              0.3333333333333333,
              "#9c179e"
             ],
             [
              0.4444444444444444,
              "#bd3786"
             ],
             [
              0.5555555555555556,
              "#d8576b"
             ],
             [
              0.6666666666666666,
              "#ed7953"
             ],
             [
              0.7777777777777778,
              "#fb9f3a"
             ],
             [
              0.8888888888888888,
              "#fdca26"
             ],
             [
              1,
              "#f0f921"
             ]
            ],
            "type": "heatmapgl"
           }
          ],
          "histogram": [
           {
            "marker": {
             "colorbar": {
              "outlinewidth": 0,
              "ticks": ""
             }
            },
            "type": "histogram"
           }
          ],
          "histogram2d": [
           {
            "colorbar": {
             "outlinewidth": 0,
             "ticks": ""
            },
            "colorscale": [
             [
              0,
              "#0d0887"
             ],
             [
              0.1111111111111111,
              "#46039f"
             ],
             [
              0.2222222222222222,
              "#7201a8"
             ],
             [
              0.3333333333333333,
              "#9c179e"
             ],
             [
              0.4444444444444444,
              "#bd3786"
             ],
             [
              0.5555555555555556,
              "#d8576b"
             ],
             [
              0.6666666666666666,
              "#ed7953"
             ],
             [
              0.7777777777777778,
              "#fb9f3a"
             ],
             [
              0.8888888888888888,
              "#fdca26"
             ],
             [
              1,
              "#f0f921"
             ]
            ],
            "type": "histogram2d"
           }
          ],
          "histogram2dcontour": [
           {
            "colorbar": {
             "outlinewidth": 0,
             "ticks": ""
            },
            "colorscale": [
             [
              0,
              "#0d0887"
             ],
             [
              0.1111111111111111,
              "#46039f"
             ],
             [
              0.2222222222222222,
              "#7201a8"
             ],
             [
              0.3333333333333333,
              "#9c179e"
             ],
             [
              0.4444444444444444,
              "#bd3786"
             ],
             [
              0.5555555555555556,
              "#d8576b"
             ],
             [
              0.6666666666666666,
              "#ed7953"
             ],
             [
              0.7777777777777778,
              "#fb9f3a"
             ],
             [
              0.8888888888888888,
              "#fdca26"
             ],
             [
              1,
              "#f0f921"
             ]
            ],
            "type": "histogram2dcontour"
           }
          ],
          "mesh3d": [
           {
            "colorbar": {
             "outlinewidth": 0,
             "ticks": ""
            },
            "type": "mesh3d"
           }
          ],
          "parcoords": [
           {
            "line": {
             "colorbar": {
              "outlinewidth": 0,
              "ticks": ""
             }
            },
            "type": "parcoords"
           }
          ],
          "pie": [
           {
            "automargin": true,
            "type": "pie"
           }
          ],
          "scatter": [
           {
            "marker": {
             "colorbar": {
              "outlinewidth": 0,
              "ticks": ""
             }
            },
            "type": "scatter"
           }
          ],
          "scatter3d": [
           {
            "line": {
             "colorbar": {
              "outlinewidth": 0,
              "ticks": ""
             }
            },
            "marker": {
             "colorbar": {
              "outlinewidth": 0,
              "ticks": ""
             }
            },
            "type": "scatter3d"
           }
          ],
          "scattercarpet": [
           {
            "marker": {
             "colorbar": {
              "outlinewidth": 0,
              "ticks": ""
             }
            },
            "type": "scattercarpet"
           }
          ],
          "scattergeo": [
           {
            "marker": {
             "colorbar": {
              "outlinewidth": 0,
              "ticks": ""
             }
            },
            "type": "scattergeo"
           }
          ],
          "scattergl": [
           {
            "marker": {
             "colorbar": {
              "outlinewidth": 0,
              "ticks": ""
             }
            },
            "type": "scattergl"
           }
          ],
          "scattermapbox": [
           {
            "marker": {
             "colorbar": {
              "outlinewidth": 0,
              "ticks": ""
             }
            },
            "type": "scattermapbox"
           }
          ],
          "scatterpolar": [
           {
            "marker": {
             "colorbar": {
              "outlinewidth": 0,
              "ticks": ""
             }
            },
            "type": "scatterpolar"
           }
          ],
          "scatterpolargl": [
           {
            "marker": {
             "colorbar": {
              "outlinewidth": 0,
              "ticks": ""
             }
            },
            "type": "scatterpolargl"
           }
          ],
          "scatterternary": [
           {
            "marker": {
             "colorbar": {
              "outlinewidth": 0,
              "ticks": ""
             }
            },
            "type": "scatterternary"
           }
          ],
          "surface": [
           {
            "colorbar": {
             "outlinewidth": 0,
             "ticks": ""
            },
            "colorscale": [
             [
              0,
              "#0d0887"
             ],
             [
              0.1111111111111111,
              "#46039f"
             ],
             [
              0.2222222222222222,
              "#7201a8"
             ],
             [
              0.3333333333333333,
              "#9c179e"
             ],
             [
              0.4444444444444444,
              "#bd3786"
             ],
             [
              0.5555555555555556,
              "#d8576b"
             ],
             [
              0.6666666666666666,
              "#ed7953"
             ],
             [
              0.7777777777777778,
              "#fb9f3a"
             ],
             [
              0.8888888888888888,
              "#fdca26"
             ],
             [
              1,
              "#f0f921"
             ]
            ],
            "type": "surface"
           }
          ],
          "table": [
           {
            "cells": {
             "fill": {
              "color": "#EBF0F8"
             },
             "line": {
              "color": "white"
             }
            },
            "header": {
             "fill": {
              "color": "#C8D4E3"
             },
             "line": {
              "color": "white"
             }
            },
            "type": "table"
           }
          ]
         },
         "layout": {
          "annotationdefaults": {
           "arrowcolor": "#2a3f5f",
           "arrowhead": 0,
           "arrowwidth": 1
          },
          "coloraxis": {
           "colorbar": {
            "outlinewidth": 0,
            "ticks": ""
           }
          },
          "colorscale": {
           "diverging": [
            [
             0,
             "#8e0152"
            ],
            [
             0.1,
             "#c51b7d"
            ],
            [
             0.2,
             "#de77ae"
            ],
            [
             0.3,
             "#f1b6da"
            ],
            [
             0.4,
             "#fde0ef"
            ],
            [
             0.5,
             "#f7f7f7"
            ],
            [
             0.6,
             "#e6f5d0"
            ],
            [
             0.7,
             "#b8e186"
            ],
            [
             0.8,
             "#7fbc41"
            ],
            [
             0.9,
             "#4d9221"
            ],
            [
             1,
             "#276419"
            ]
           ],
           "sequential": [
            [
             0,
             "#0d0887"
            ],
            [
             0.1111111111111111,
             "#46039f"
            ],
            [
             0.2222222222222222,
             "#7201a8"
            ],
            [
             0.3333333333333333,
             "#9c179e"
            ],
            [
             0.4444444444444444,
             "#bd3786"
            ],
            [
             0.5555555555555556,
             "#d8576b"
            ],
            [
             0.6666666666666666,
             "#ed7953"
            ],
            [
             0.7777777777777778,
             "#fb9f3a"
            ],
            [
             0.8888888888888888,
             "#fdca26"
            ],
            [
             1,
             "#f0f921"
            ]
           ],
           "sequentialminus": [
            [
             0,
             "#0d0887"
            ],
            [
             0.1111111111111111,
             "#46039f"
            ],
            [
             0.2222222222222222,
             "#7201a8"
            ],
            [
             0.3333333333333333,
             "#9c179e"
            ],
            [
             0.4444444444444444,
             "#bd3786"
            ],
            [
             0.5555555555555556,
             "#d8576b"
            ],
            [
             0.6666666666666666,
             "#ed7953"
            ],
            [
             0.7777777777777778,
             "#fb9f3a"
            ],
            [
             0.8888888888888888,
             "#fdca26"
            ],
            [
             1,
             "#f0f921"
            ]
           ]
          },
          "colorway": [
           "#636efa",
           "#EF553B",
           "#00cc96",
           "#ab63fa",
           "#FFA15A",
           "#19d3f3",
           "#FF6692",
           "#B6E880",
           "#FF97FF",
           "#FECB52"
          ],
          "font": {
           "color": "#2a3f5f"
          },
          "geo": {
           "bgcolor": "white",
           "lakecolor": "white",
           "landcolor": "#E5ECF6",
           "showlakes": true,
           "showland": true,
           "subunitcolor": "white"
          },
          "hoverlabel": {
           "align": "left"
          },
          "hovermode": "closest",
          "mapbox": {
           "style": "light"
          },
          "paper_bgcolor": "white",
          "plot_bgcolor": "#E5ECF6",
          "polar": {
           "angularaxis": {
            "gridcolor": "white",
            "linecolor": "white",
            "ticks": ""
           },
           "bgcolor": "#E5ECF6",
           "radialaxis": {
            "gridcolor": "white",
            "linecolor": "white",
            "ticks": ""
           }
          },
          "scene": {
           "xaxis": {
            "backgroundcolor": "#E5ECF6",
            "gridcolor": "white",
            "gridwidth": 2,
            "linecolor": "white",
            "showbackground": true,
            "ticks": "",
            "zerolinecolor": "white"
           },
           "yaxis": {
            "backgroundcolor": "#E5ECF6",
            "gridcolor": "white",
            "gridwidth": 2,
            "linecolor": "white",
            "showbackground": true,
            "ticks": "",
            "zerolinecolor": "white"
           },
           "zaxis": {
            "backgroundcolor": "#E5ECF6",
            "gridcolor": "white",
            "gridwidth": 2,
            "linecolor": "white",
            "showbackground": true,
            "ticks": "",
            "zerolinecolor": "white"
           }
          },
          "shapedefaults": {
           "line": {
            "color": "#2a3f5f"
           }
          },
          "ternary": {
           "aaxis": {
            "gridcolor": "white",
            "linecolor": "white",
            "ticks": ""
           },
           "baxis": {
            "gridcolor": "white",
            "linecolor": "white",
            "ticks": ""
           },
           "bgcolor": "#E5ECF6",
           "caxis": {
            "gridcolor": "white",
            "linecolor": "white",
            "ticks": ""
           }
          },
          "title": {
           "x": 0.05
          },
          "xaxis": {
           "automargin": true,
           "gridcolor": "white",
           "linecolor": "white",
           "ticks": "",
           "title": {
            "standoff": 15
           },
           "zerolinecolor": "white",
           "zerolinewidth": 2
          },
          "yaxis": {
           "automargin": true,
           "gridcolor": "white",
           "linecolor": "white",
           "ticks": "",
           "title": {
            "standoff": 15
           },
           "zerolinecolor": "white",
           "zerolinewidth": 2
          }
         }
        },
        "width": 800,
        "xaxis": {
         "anchor": "y",
         "autorange": true,
         "domain": [
          0,
          0.45
         ],
         "tickformat": "%m-%d\n%H:%M:%S",
         "title": {
          "text": "Time"
         }
        },
        "xaxis2": {
         "anchor": "y2",
         "domain": [
          0.55,
          1
         ]
        },
        "yaxis": {
         "anchor": "x",
         "domain": [
          0,
          1
         ],
         "range": [
          0,
          100
         ]
        },
        "yaxis2": {
         "anchor": "x2",
         "domain": [
          0,
          1
         ],
         "range": [
          0,
          100
         ]
        }
       }
      },
      "text/html": [
       "<div>\n",
       "        \n",
       "        \n",
       "            <div id=\"aea54e74-ee70-434f-81bf-47c25322bf11\" class=\"plotly-graph-div\" style=\"height:600px; width:800px;\"></div>\n",
       "            <script type=\"text/javascript\">\n",
       "                require([\"plotly\"], function(Plotly) {\n",
       "                    window.PLOTLYENV=window.PLOTLYENV || {};\n",
       "                    \n",
       "                if (document.getElementById(\"aea54e74-ee70-434f-81bf-47c25322bf11\")) {\n",
       "                    Plotly.newPlot(\n",
       "                        'aea54e74-ee70-434f-81bf-47c25322bf11',\n",
       "                        [{\"type\": \"scatter\", \"x\": [\"2020-06-10 19:59:08.299433\", \"2020-06-10 19:59:08.300886\", \"2020-06-10 19:59:09.329773\", \"2020-06-10 19:59:09.331568\", \"2020-06-10 19:59:09.567300\", \"2020-06-10 19:59:10.358324\", \"2020-06-10 19:59:10.594959\", \"2020-06-10 19:59:11.380334\", \"2020-06-10 19:59:11.636826\", \"2020-06-10 19:59:12.416775\", \"2020-06-10 19:59:12.659252\", \"2020-06-10 19:59:13.466099\", \"2020-06-10 19:59:13.682142\", \"2020-06-10 19:59:14.509228\", \"2020-06-10 19:59:14.705150\", \"2020-06-10 19:59:15.529186\", \"2020-06-10 19:59:15.728653\", \"2020-06-10 19:59:16.554108\", \"2020-06-10 19:59:16.752914\", \"2020-06-10 19:59:17.777485\", \"2020-06-10 19:59:18.829037\", \"2020-06-10 19:59:19.795906\", \"2020-06-10 19:59:19.852083\", \"2020-06-10 19:59:20.846505\", \"2020-06-10 19:59:20.874929\", \"2020-06-10 19:59:21.870924\", \"2020-06-10 19:59:21.898276\", \"2020-06-10 19:59:22.907031\", \"2020-06-10 19:59:22.923557\", \"2020-06-10 19:59:23.941936\", \"2020-06-10 19:59:24.916085\", \"2020-06-10 19:59:24.968603\", \"2020-06-10 19:59:25.949310\", \"2020-06-10 19:59:25.990455\", \"2020-06-10 19:59:27.032620\", \"2020-06-10 19:59:27.064473\", \"2020-06-10 19:59:28.107000\", \"2020-06-10 19:59:28.123365\", \"2020-06-10 19:59:29.133380\", \"2020-06-10 19:59:29.154792\", \"2020-06-10 19:59:30.177189\", \"2020-06-10 19:59:30.213648\", \"2020-06-10 19:59:31.203636\", \"2020-06-10 19:59:31.244702\", \"2020-06-10 19:59:32.226459\", \"2020-06-10 19:59:32.270104\", \"2020-06-10 19:59:33.255388\", \"2020-06-10 19:59:33.298121\", \"2020-06-10 19:59:34.311973\", \"2020-06-10 19:59:35.378767\"], \"xaxis\": \"x\", \"y\": [0.0, 0.0, 0.0, 0.0, 0.0, 0.0, 0.0, 0.0, 0.0, 0.0, 0.0, 0.0, 0.0, 0.0, 0.0, 0.0, 0.0, 0.0, 0.0, 0.0, 0.0, 0.0, 0.0, 0.0, 0.0, 0.0, 0.0, 0.0, 0.0, 0.0, 0.0, 0.0, 0.0, 0.0, 0.0, 0.0, 0.0, 0.0, 0.0, 0.0, 0.0, 0.0, 0.0, 0.0, 0.0, 0.0, 0.0, 1.0, 0.0, 0.0], \"yaxis\": \"y\"}, {\"type\": \"scatter\", \"x\": [\"2020-06-10 19:59:08.299433\", \"2020-06-10 19:59:08.300886\", \"2020-06-10 19:59:09.329773\", \"2020-06-10 19:59:09.331568\", \"2020-06-10 19:59:09.567300\", \"2020-06-10 19:59:10.358324\", \"2020-06-10 19:59:10.594959\", \"2020-06-10 19:59:11.380334\", \"2020-06-10 19:59:11.636826\", \"2020-06-10 19:59:12.416775\", \"2020-06-10 19:59:12.659252\", \"2020-06-10 19:59:13.466099\", \"2020-06-10 19:59:13.682142\", \"2020-06-10 19:59:14.509228\", \"2020-06-10 19:59:14.705150\", \"2020-06-10 19:59:15.529186\", \"2020-06-10 19:59:15.728653\", \"2020-06-10 19:59:16.554108\", \"2020-06-10 19:59:16.752914\", \"2020-06-10 19:59:17.777485\", \"2020-06-10 19:59:18.829037\", \"2020-06-10 19:59:19.795906\", \"2020-06-10 19:59:19.852083\", \"2020-06-10 19:59:20.846505\", \"2020-06-10 19:59:20.874929\", \"2020-06-10 19:59:21.870924\", \"2020-06-10 19:59:21.898276\", \"2020-06-10 19:59:22.907031\", \"2020-06-10 19:59:22.923557\", \"2020-06-10 19:59:23.941936\", \"2020-06-10 19:59:24.916085\", \"2020-06-10 19:59:24.968603\", \"2020-06-10 19:59:25.949310\", \"2020-06-10 19:59:25.990455\", \"2020-06-10 19:59:27.032620\", \"2020-06-10 19:59:27.064473\", \"2020-06-10 19:59:28.107000\", \"2020-06-10 19:59:28.123365\", \"2020-06-10 19:59:29.133380\", \"2020-06-10 19:59:29.154792\", \"2020-06-10 19:59:30.177189\", \"2020-06-10 19:59:30.213648\", \"2020-06-10 19:59:31.203636\", \"2020-06-10 19:59:31.244702\", \"2020-06-10 19:59:32.226459\", \"2020-06-10 19:59:32.270104\", \"2020-06-10 19:59:33.255388\", \"2020-06-10 19:59:33.298121\", \"2020-06-10 19:59:34.311973\", \"2020-06-10 19:59:35.378767\"], \"xaxis\": \"x2\", \"y\": [6.833328751467834, 6.832739654474977, 6.840790646710679, 6.839219721396395, 7.775687574373496, 6.839219721396395, 7.799055088423458, 6.839219721396395, 7.811622490937725, 6.839219721396395, 7.811622490937725, 6.839219721396395, 7.811622490937725, 6.839219721396395, 7.82418989345199, 6.839219721396395, 7.82418989345199, 6.840201549717823, 7.82418989345199, 7.82418989345199, 7.82418989345199, 7.776080305702066, 7.82418989345199, 7.799251454087743, 7.82418989345199, 7.81181885660201, 7.82418989345199, 7.81181885660201, 7.8253680874377025, 7.824386259116276, 7.777258499687779, 7.824386259116276, 7.800626013737742, 7.824386259116276, 7.813193416252007, 7.824386259116276, 7.813193416252007, 7.824386259116276, 7.825760818766273, 7.824386259116276, 7.825760818766273, 7.824386259116276, 7.825760818766273, 7.824386259116276, 7.825760818766273, 7.824386259116276, 7.825760818766273, 7.82556445310199, 7.825760818766273, 7.826153550094844], \"yaxis\": \"y2\"}],\n",
       "                        {\"annotations\": [{\"font\": {\"size\": 16}, \"showarrow\": false, \"text\": \"CPU\", \"x\": 0.225, \"xanchor\": \"center\", \"xref\": \"paper\", \"y\": 1.0, \"yanchor\": \"bottom\", \"yref\": \"paper\"}, {\"font\": {\"size\": 16}, \"showarrow\": false, \"text\": \"Memory\", \"x\": 0.775, \"xanchor\": \"center\", \"xref\": \"paper\", \"y\": 1.0, \"yanchor\": \"bottom\", \"yref\": \"paper\"}], \"height\": 600, \"showlegend\": false, \"template\": {\"data\": {\"bar\": [{\"error_x\": {\"color\": \"#2a3f5f\"}, \"error_y\": {\"color\": \"#2a3f5f\"}, \"marker\": {\"line\": {\"color\": \"#E5ECF6\", \"width\": 0.5}}, \"type\": \"bar\"}], \"barpolar\": [{\"marker\": {\"line\": {\"color\": \"#E5ECF6\", \"width\": 0.5}}, \"type\": \"barpolar\"}], \"carpet\": [{\"aaxis\": {\"endlinecolor\": \"#2a3f5f\", \"gridcolor\": \"white\", \"linecolor\": \"white\", \"minorgridcolor\": \"white\", \"startlinecolor\": \"#2a3f5f\"}, \"baxis\": {\"endlinecolor\": \"#2a3f5f\", \"gridcolor\": \"white\", \"linecolor\": \"white\", \"minorgridcolor\": \"white\", \"startlinecolor\": \"#2a3f5f\"}, \"type\": \"carpet\"}], \"choropleth\": [{\"colorbar\": {\"outlinewidth\": 0, \"ticks\": \"\"}, \"type\": \"choropleth\"}], \"contour\": [{\"colorbar\": {\"outlinewidth\": 0, \"ticks\": \"\"}, \"colorscale\": [[0.0, \"#0d0887\"], [0.1111111111111111, \"#46039f\"], [0.2222222222222222, \"#7201a8\"], [0.3333333333333333, \"#9c179e\"], [0.4444444444444444, \"#bd3786\"], [0.5555555555555556, \"#d8576b\"], [0.6666666666666666, \"#ed7953\"], [0.7777777777777778, \"#fb9f3a\"], [0.8888888888888888, \"#fdca26\"], [1.0, \"#f0f921\"]], \"type\": \"contour\"}], \"contourcarpet\": [{\"colorbar\": {\"outlinewidth\": 0, \"ticks\": \"\"}, \"type\": \"contourcarpet\"}], \"heatmap\": [{\"colorbar\": {\"outlinewidth\": 0, \"ticks\": \"\"}, \"colorscale\": [[0.0, \"#0d0887\"], [0.1111111111111111, \"#46039f\"], [0.2222222222222222, \"#7201a8\"], [0.3333333333333333, \"#9c179e\"], [0.4444444444444444, \"#bd3786\"], [0.5555555555555556, \"#d8576b\"], [0.6666666666666666, \"#ed7953\"], [0.7777777777777778, \"#fb9f3a\"], [0.8888888888888888, \"#fdca26\"], [1.0, \"#f0f921\"]], \"type\": \"heatmap\"}], \"heatmapgl\": [{\"colorbar\": {\"outlinewidth\": 0, \"ticks\": \"\"}, \"colorscale\": [[0.0, \"#0d0887\"], [0.1111111111111111, \"#46039f\"], [0.2222222222222222, \"#7201a8\"], [0.3333333333333333, \"#9c179e\"], [0.4444444444444444, \"#bd3786\"], [0.5555555555555556, \"#d8576b\"], [0.6666666666666666, \"#ed7953\"], [0.7777777777777778, \"#fb9f3a\"], [0.8888888888888888, \"#fdca26\"], [1.0, \"#f0f921\"]], \"type\": \"heatmapgl\"}], \"histogram\": [{\"marker\": {\"colorbar\": {\"outlinewidth\": 0, \"ticks\": \"\"}}, \"type\": \"histogram\"}], \"histogram2d\": [{\"colorbar\": {\"outlinewidth\": 0, \"ticks\": \"\"}, \"colorscale\": [[0.0, \"#0d0887\"], [0.1111111111111111, \"#46039f\"], [0.2222222222222222, \"#7201a8\"], [0.3333333333333333, \"#9c179e\"], [0.4444444444444444, \"#bd3786\"], [0.5555555555555556, \"#d8576b\"], [0.6666666666666666, \"#ed7953\"], [0.7777777777777778, \"#fb9f3a\"], [0.8888888888888888, \"#fdca26\"], [1.0, \"#f0f921\"]], \"type\": \"histogram2d\"}], \"histogram2dcontour\": [{\"colorbar\": {\"outlinewidth\": 0, \"ticks\": \"\"}, \"colorscale\": [[0.0, \"#0d0887\"], [0.1111111111111111, \"#46039f\"], [0.2222222222222222, \"#7201a8\"], [0.3333333333333333, \"#9c179e\"], [0.4444444444444444, \"#bd3786\"], [0.5555555555555556, \"#d8576b\"], [0.6666666666666666, \"#ed7953\"], [0.7777777777777778, \"#fb9f3a\"], [0.8888888888888888, \"#fdca26\"], [1.0, \"#f0f921\"]], \"type\": \"histogram2dcontour\"}], \"mesh3d\": [{\"colorbar\": {\"outlinewidth\": 0, \"ticks\": \"\"}, \"type\": \"mesh3d\"}], \"parcoords\": [{\"line\": {\"colorbar\": {\"outlinewidth\": 0, \"ticks\": \"\"}}, \"type\": \"parcoords\"}], \"pie\": [{\"automargin\": true, \"type\": \"pie\"}], \"scatter\": [{\"marker\": {\"colorbar\": {\"outlinewidth\": 0, \"ticks\": \"\"}}, \"type\": \"scatter\"}], \"scatter3d\": [{\"line\": {\"colorbar\": {\"outlinewidth\": 0, \"ticks\": \"\"}}, \"marker\": {\"colorbar\": {\"outlinewidth\": 0, \"ticks\": \"\"}}, \"type\": \"scatter3d\"}], \"scattercarpet\": [{\"marker\": {\"colorbar\": {\"outlinewidth\": 0, \"ticks\": \"\"}}, \"type\": \"scattercarpet\"}], \"scattergeo\": [{\"marker\": {\"colorbar\": {\"outlinewidth\": 0, \"ticks\": \"\"}}, \"type\": \"scattergeo\"}], \"scattergl\": [{\"marker\": {\"colorbar\": {\"outlinewidth\": 0, \"ticks\": \"\"}}, \"type\": \"scattergl\"}], \"scattermapbox\": [{\"marker\": {\"colorbar\": {\"outlinewidth\": 0, \"ticks\": \"\"}}, \"type\": \"scattermapbox\"}], \"scatterpolar\": [{\"marker\": {\"colorbar\": {\"outlinewidth\": 0, \"ticks\": \"\"}}, \"type\": \"scatterpolar\"}], \"scatterpolargl\": [{\"marker\": {\"colorbar\": {\"outlinewidth\": 0, \"ticks\": \"\"}}, \"type\": \"scatterpolargl\"}], \"scatterternary\": [{\"marker\": {\"colorbar\": {\"outlinewidth\": 0, \"ticks\": \"\"}}, \"type\": \"scatterternary\"}], \"surface\": [{\"colorbar\": {\"outlinewidth\": 0, \"ticks\": \"\"}, \"colorscale\": [[0.0, \"#0d0887\"], [0.1111111111111111, \"#46039f\"], [0.2222222222222222, \"#7201a8\"], [0.3333333333333333, \"#9c179e\"], [0.4444444444444444, \"#bd3786\"], [0.5555555555555556, \"#d8576b\"], [0.6666666666666666, \"#ed7953\"], [0.7777777777777778, \"#fb9f3a\"], [0.8888888888888888, \"#fdca26\"], [1.0, \"#f0f921\"]], \"type\": \"surface\"}], \"table\": [{\"cells\": {\"fill\": {\"color\": \"#EBF0F8\"}, \"line\": {\"color\": \"white\"}}, \"header\": {\"fill\": {\"color\": \"#C8D4E3\"}, \"line\": {\"color\": \"white\"}}, \"type\": \"table\"}]}, \"layout\": {\"annotationdefaults\": {\"arrowcolor\": \"#2a3f5f\", \"arrowhead\": 0, \"arrowwidth\": 1}, \"coloraxis\": {\"colorbar\": {\"outlinewidth\": 0, \"ticks\": \"\"}}, \"colorscale\": {\"diverging\": [[0, \"#8e0152\"], [0.1, \"#c51b7d\"], [0.2, \"#de77ae\"], [0.3, \"#f1b6da\"], [0.4, \"#fde0ef\"], [0.5, \"#f7f7f7\"], [0.6, \"#e6f5d0\"], [0.7, \"#b8e186\"], [0.8, \"#7fbc41\"], [0.9, \"#4d9221\"], [1, \"#276419\"]], \"sequential\": [[0.0, \"#0d0887\"], [0.1111111111111111, \"#46039f\"], [0.2222222222222222, \"#7201a8\"], [0.3333333333333333, \"#9c179e\"], [0.4444444444444444, \"#bd3786\"], [0.5555555555555556, \"#d8576b\"], [0.6666666666666666, \"#ed7953\"], [0.7777777777777778, \"#fb9f3a\"], [0.8888888888888888, \"#fdca26\"], [1.0, \"#f0f921\"]], \"sequentialminus\": [[0.0, \"#0d0887\"], [0.1111111111111111, \"#46039f\"], [0.2222222222222222, \"#7201a8\"], [0.3333333333333333, \"#9c179e\"], [0.4444444444444444, \"#bd3786\"], [0.5555555555555556, \"#d8576b\"], [0.6666666666666666, \"#ed7953\"], [0.7777777777777778, \"#fb9f3a\"], [0.8888888888888888, \"#fdca26\"], [1.0, \"#f0f921\"]]}, \"colorway\": [\"#636efa\", \"#EF553B\", \"#00cc96\", \"#ab63fa\", \"#FFA15A\", \"#19d3f3\", \"#FF6692\", \"#B6E880\", \"#FF97FF\", \"#FECB52\"], \"font\": {\"color\": \"#2a3f5f\"}, \"geo\": {\"bgcolor\": \"white\", \"lakecolor\": \"white\", \"landcolor\": \"#E5ECF6\", \"showlakes\": true, \"showland\": true, \"subunitcolor\": \"white\"}, \"hoverlabel\": {\"align\": \"left\"}, \"hovermode\": \"closest\", \"mapbox\": {\"style\": \"light\"}, \"paper_bgcolor\": \"white\", \"plot_bgcolor\": \"#E5ECF6\", \"polar\": {\"angularaxis\": {\"gridcolor\": \"white\", \"linecolor\": \"white\", \"ticks\": \"\"}, \"bgcolor\": \"#E5ECF6\", \"radialaxis\": {\"gridcolor\": \"white\", \"linecolor\": \"white\", \"ticks\": \"\"}}, \"scene\": {\"xaxis\": {\"backgroundcolor\": \"#E5ECF6\", \"gridcolor\": \"white\", \"gridwidth\": 2, \"linecolor\": \"white\", \"showbackground\": true, \"ticks\": \"\", \"zerolinecolor\": \"white\"}, \"yaxis\": {\"backgroundcolor\": \"#E5ECF6\", \"gridcolor\": \"white\", \"gridwidth\": 2, \"linecolor\": \"white\", \"showbackground\": true, \"ticks\": \"\", \"zerolinecolor\": \"white\"}, \"zaxis\": {\"backgroundcolor\": \"#E5ECF6\", \"gridcolor\": \"white\", \"gridwidth\": 2, \"linecolor\": \"white\", \"showbackground\": true, \"ticks\": \"\", \"zerolinecolor\": \"white\"}}, \"shapedefaults\": {\"line\": {\"color\": \"#2a3f5f\"}}, \"ternary\": {\"aaxis\": {\"gridcolor\": \"white\", \"linecolor\": \"white\", \"ticks\": \"\"}, \"baxis\": {\"gridcolor\": \"white\", \"linecolor\": \"white\", \"ticks\": \"\"}, \"bgcolor\": \"#E5ECF6\", \"caxis\": {\"gridcolor\": \"white\", \"linecolor\": \"white\", \"ticks\": \"\"}}, \"title\": {\"x\": 0.05}, \"xaxis\": {\"automargin\": true, \"gridcolor\": \"white\", \"linecolor\": \"white\", \"ticks\": \"\", \"title\": {\"standoff\": 15}, \"zerolinecolor\": \"white\", \"zerolinewidth\": 2}, \"yaxis\": {\"automargin\": true, \"gridcolor\": \"white\", \"linecolor\": \"white\", \"ticks\": \"\", \"title\": {\"standoff\": 15}, \"zerolinecolor\": \"white\", \"zerolinewidth\": 2}}}, \"width\": 800, \"xaxis\": {\"anchor\": \"y\", \"autorange\": true, \"domain\": [0.0, 0.45], \"tickformat\": \"%m-%d\\n%H:%M:%S\", \"title\": {\"text\": \"Time\"}}, \"xaxis2\": {\"anchor\": \"y2\", \"domain\": [0.55, 1.0]}, \"yaxis\": {\"anchor\": \"x\", \"domain\": [0.0, 1.0], \"range\": [0, 100]}, \"yaxis2\": {\"anchor\": \"x2\", \"domain\": [0.0, 1.0], \"range\": [0, 100]}},\n",
       "                        {\"responsive\": true}\n",
       "                    ).then(function(){\n",
       "                            \n",
       "var gd = document.getElementById('aea54e74-ee70-434f-81bf-47c25322bf11');\n",
       "var x = new MutationObserver(function (mutations, observer) {{\n",
       "        var display = window.getComputedStyle(gd).display;\n",
       "        if (!display || display === 'none') {{\n",
       "            console.log([gd, 'removed!']);\n",
       "            Plotly.purge(gd);\n",
       "            observer.disconnect();\n",
       "        }}\n",
       "}});\n",
       "\n",
       "// Listen for the removal of the full notebook cells\n",
       "var notebookContainer = gd.closest('#notebook-container');\n",
       "if (notebookContainer) {{\n",
       "    x.observe(notebookContainer, {childList: true});\n",
       "}}\n",
       "\n",
       "// Listen for the clearing of the current output cell\n",
       "var outputEl = gd.closest('.output');\n",
       "if (outputEl) {{\n",
       "    x.observe(outputEl, {childList: true});\n",
       "}}\n",
       "\n",
       "                        })\n",
       "                };\n",
       "                });\n",
       "            </script>\n",
       "        </div>"
      ]
     },
     "metadata": {},
     "output_type": "display_data"
    }
   ],
   "source": [
    "from plotly.subplots import make_subplots\n",
    "import plotly.graph_objects as go\n",
    "\n",
    "fig = make_subplots(rows=1, cols=2, subplot_titles=(\"CPU\", \"Memory\"))\n",
    "\n",
    "fig.add_trace(\n",
    "    go.Scatter(\n",
    "        x=df_resource['timestamp'], \n",
    "        y=df_resource['psutil_process_cpu_percent']),\n",
    "    row=1, col=1\n",
    ")\n",
    "\n",
    "fig.add_trace(\n",
    "    go.Scatter(\n",
    "        x=df_resource['timestamp'], \n",
    "        y=df_resource['psutil_process_memory_percent']),\n",
    "    row=1, col=2\n",
    ")\n",
    "\n",
    "xaxis = dict(tickformat='%m-%d\\n%H:%M:%S', autorange=True, title='Time')\n",
    "yaxis = dict(title=\"Utilization (X)\")\n",
    "\n",
    "fig.update_layout(height=600, width=800, xaxis=xaxis, showlegend=False)\n",
    "fig.update_yaxes(range=[0, 100])\n",
    "\n",
    "fig.show()"
   ]
  },
  {
   "cell_type": "code",
   "execution_count": 9,
   "metadata": {},
   "outputs": [],
   "source": [
    "conn.close()"
   ]
  },
  {
   "cell_type": "code",
   "execution_count": null,
   "metadata": {},
   "outputs": [],
   "source": []
  }
 ],
 "metadata": {
  "kernelspec": {
   "display_name": "Python 3",
   "language": "python",
   "name": "python3"
  },
  "language_info": {
   "codemirror_mode": {
    "name": "ipython",
    "version": 3
   },
   "file_extension": ".py",
   "mimetype": "text/x-python",
   "name": "python",
   "nbconvert_exporter": "python",
   "pygments_lexer": "ipython3",
   "version": "3.8.2"
  }
 },
 "nbformat": 4,
 "nbformat_minor": 4
}
